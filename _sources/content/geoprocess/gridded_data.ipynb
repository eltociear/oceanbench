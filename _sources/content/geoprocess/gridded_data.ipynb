{
 "cells": [
  {
   "cell_type": "markdown",
   "id": "595b1d9d",
   "metadata": {},
   "source": [
    "# Regridding Data"
   ]
  },
  {
   "cell_type": "code",
   "execution_count": null,
   "id": "343f5cb5",
   "metadata": {},
   "outputs": [],
   "source": [
    "cd .."
   ]
  },
  {
   "cell_type": "code",
   "execution_count": null,
   "id": "978e7b18",
   "metadata": {},
   "outputs": [],
   "source": [
    "from omegaconf import OmegaConf\n",
    "import hydra\n",
    "import xarray as xr\n",
    "\n",
    "import oceanbench._src.geoprocessing.validation as geoval"
   ]
  },
  {
   "cell_type": "code",
   "execution_count": null,
   "id": "5bfe73c7",
   "metadata": {},
   "outputs": [],
   "source": [
    "import importlib\n",
    "importlib.reload(geoval)"
   ]
  },
  {
   "cell_type": "code",
   "execution_count": null,
   "id": "769d7181",
   "metadata": {},
   "outputs": [],
   "source": []
  },
  {
   "cell_type": "code",
   "execution_count": null,
   "id": "fd7c17a5",
   "metadata": {},
   "outputs": [],
   "source": []
  },
  {
   "cell_type": "code",
   "execution_count": null,
   "id": "b8cf78b1",
   "metadata": {},
   "outputs": [],
   "source": [
    "raw_natl = xr.open_dataset('../sla-data-registry/NATL60/NATL/ref_new/NATL60-CJM165_NATL_ssh_y2013.1y.nc')"
   ]
  },
  {
   "cell_type": "code",
   "execution_count": null,
   "id": "40444a56",
   "metadata": {},
   "outputs": [],
   "source": [
    "raw_natl"
   ]
  },
  {
   "cell_type": "markdown",
   "id": "d7debc70",
   "metadata": {},
   "source": [
    "## Preprocessing steps\n",
    "- set time units \"seconds since 2012-10-01\"\n",
    "- decode times to datetime\n",
    "- add longitude and latitude units\n",
    "- add sea surface height unit\n",
    "- select domain"
   ]
  },
  {
   "cell_type": "markdown",
   "id": "2fa2162f",
   "metadata": {},
   "source": [
    "**Decode time**"
   ]
  },
  {
   "cell_type": "code",
   "execution_count": null,
   "id": "03cfb64a",
   "metadata": {},
   "outputs": [],
   "source": [
    "print('Before: ', raw_natl.time)\n",
    "print()\n",
    "natl = geoval.decode_cf_time(raw_natl, units=\"seconds since 2012-10-01\")\n",
    "print('After: ', natl.time)\n",
    "                      "
   ]
  },
  {
   "cell_type": "markdown",
   "id": "79e9b50f",
   "metadata": {},
   "source": [
    "**Validate lat lon coordinates**"
   ]
  },
  {
   "cell_type": "code",
   "execution_count": null,
   "id": "7d9af63a",
   "metadata": {},
   "outputs": [],
   "source": [
    "print('Before: ', natl.lon.attrs, natl.lat.attrs)\n",
    "print()\n",
    "natl = geoval.validate_latlon(natl)\n",
    "print('After: ', natl.lon.attrs, natl.lat.attrs)"
   ]
  },
  {
   "cell_type": "markdown",
   "id": "44e46d48",
   "metadata": {},
   "source": [
    "**Validate ssh variable**"
   ]
  },
  {
   "cell_type": "code",
   "execution_count": null,
   "id": "467030a0",
   "metadata": {},
   "outputs": [],
   "source": [
    "print('Before: ', natl.ssh.attrs)\n",
    "print()\n",
    "natl = geoval.validate_ssh(natl)\n",
    "print('After: ', natl.ssh.attrs)\n"
   ]
  },
  {
   "cell_type": "code",
   "execution_count": null,
   "id": "f6e276a1",
   "metadata": {},
   "outputs": [],
   "source": [
    "print('Before: ', natl.dims)\n",
    "print()\n",
    "final_natl = natl.sel(lat=slice(32, 44), lon=slice(-66, -54), time=slice('2013-01-10', '2013-03-10'))\n",
    "print('After: ', final_natl.dims)"
   ]
  },
  {
   "cell_type": "code",
   "execution_count": null,
   "id": "4664648d",
   "metadata": {},
   "outputs": [],
   "source": [
    "final_natl"
   ]
  },
  {
   "cell_type": "markdown",
   "id": "052ee6c7",
   "metadata": {},
   "source": [
    "## Using configuration for processing"
   ]
  },
  {
   "cell_type": "code",
   "execution_count": null,
   "id": "fb438c2d",
   "metadata": {},
   "outputs": [],
   "source": [
    "import yaml\n",
    "from IPython.display import Markdown, display\n",
    "\n",
    "def disp_config(cfg):\n",
    "    display(Markdown(\"\"\"```yaml\\n\"\"\" +yaml.dump(OmegaConf.to_container(cfg), default_flow_style=None, indent=2)+\"\"\"\\n```\"\"\"))"
   ]
  },
  {
   "cell_type": "code",
   "execution_count": null,
   "id": "4c26fe70",
   "metadata": {},
   "outputs": [],
   "source": []
  },
  {
   "cell_type": "code",
   "execution_count": null,
   "id": "d8ca9e57",
   "metadata": {},
   "outputs": [],
   "source": [
    "data_cfg = OmegaConf.load('config/data/gridded.yaml')\n",
    "data = hydra.utils.call(data_cfg)\n",
    "disp_config(data_cfg)"
   ]
  },
  {
   "cell_type": "code",
   "execution_count": null,
   "id": "253583f5",
   "metadata": {},
   "outputs": [],
   "source": [
    "key = 'natl'\n",
    "OmegaConf.resolve(data_cfg[key])\n",
    "disp_config(data_cfg[key])\n",
    "data[key]()"
   ]
  },
  {
   "cell_type": "code",
   "execution_count": null,
   "id": "c66130fb",
   "metadata": {},
   "outputs": [],
   "source": [
    "key = 'oi'\n",
    "OmegaConf.resolve(data_cfg[key])\n",
    "disp_config(data_cfg[key])\n",
    "data[key]()"
   ]
  },
  {
   "cell_type": "code",
   "execution_count": null,
   "id": "3dc8c3d3",
   "metadata": {},
   "outputs": [],
   "source": [
    "key = 'obs'\n",
    "OmegaConf.resolve(data_cfg[key])\n",
    "disp_config(data_cfg[key])\n",
    "data[key]()"
   ]
  },
  {
   "cell_type": "code",
   "execution_count": null,
   "id": "109aab4d",
   "metadata": {},
   "outputs": [],
   "source": [
    "hydra.utils.call(data).natl"
   ]
  },
  {
   "cell_type": "code",
   "execution_count": null,
   "id": "f7577197",
   "metadata": {},
   "outputs": [],
   "source": [
    "hydra.utils.call(data_cfg).oi()"
   ]
  },
  {
   "cell_type": "code",
   "execution_count": null,
   "id": "add4e749",
   "metadata": {},
   "outputs": [],
   "source": []
  }
 ],
 "metadata": {
  "jupytext": {
   "text_representation": {
    "extension": ".md",
    "format_name": "myst",
    "format_version": 0.13,
    "jupytext_version": "1.14.5"
   }
  },
  "kernelspec": {
   "display_name": "oceanbench",
   "language": "python",
   "name": "oceanbench"
  },
  "source_map": [
   12,
   16,
   20,
   28,
   33,
   37,
   41,
   45,
   47,
   56,
   60,
   66,
   70,
   75,
   79,
   87,
   94,
   96,
   100,
   108,
   112,
   118,
   125,
   132,
   139,
   143,
   147
  ]
 },
 "nbformat": 4,
 "nbformat_minor": 5
}