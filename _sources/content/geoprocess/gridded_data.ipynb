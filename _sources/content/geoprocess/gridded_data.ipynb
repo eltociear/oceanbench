{
 "cells": [
  {
   "cell_type": "markdown",
   "id": "0e0b9b90",
   "metadata": {},
   "source": [
    "# Regridding Data"
   ]
  },
  {
   "cell_type": "code",
   "execution_count": null,
   "id": "89ca408a",
   "metadata": {},
   "outputs": [],
   "source": [
    "cd .."
   ]
  },
  {
   "cell_type": "code",
   "execution_count": null,
   "id": "9abb1b51",
   "metadata": {},
   "outputs": [],
   "source": [
    "from omegaconf import OmegaConf\n",
    "import hydra\n",
    "import xarray as xr\n",
    "\n",
    "import oceanbench._src.geoprocessing.validation as geoval"
   ]
  },
  {
   "cell_type": "code",
   "execution_count": null,
   "id": "ad2da5e8",
   "metadata": {},
   "outputs": [],
   "source": [
    "import importlib\n",
    "importlib.reload(geoval)"
   ]
  },
  {
   "cell_type": "code",
   "execution_count": null,
   "id": "775e0a29",
   "metadata": {},
   "outputs": [],
   "source": []
  },
  {
   "cell_type": "code",
   "execution_count": null,
   "id": "5c4176e2",
   "metadata": {},
   "outputs": [],
   "source": []
  },
  {
   "cell_type": "code",
   "execution_count": null,
   "id": "e1430df2",
   "metadata": {},
   "outputs": [],
   "source": [
    "raw_natl = xr.open_dataset('../sla-data-registry/NATL60/NATL/ref_new/NATL60-CJM165_NATL_ssh_y2013.1y.nc')"
   ]
  },
  {
   "cell_type": "code",
   "execution_count": null,
   "id": "7bd794e8",
   "metadata": {},
   "outputs": [],
   "source": [
    "raw_natl"
   ]
  },
  {
   "cell_type": "markdown",
   "id": "898c3d31",
   "metadata": {},
   "source": [
    "## Preprocessing steps\n",
    "- set time units \"seconds since 2012-10-01\"\n",
    "- decode times to datetime\n",
    "- add longitude and latitude units\n",
    "- add sea surface height unit\n",
    "- select domain"
   ]
  },
  {
   "cell_type": "markdown",
   "id": "d3ea4f74",
   "metadata": {},
   "source": [
    "**Decode time**"
   ]
  },
  {
   "cell_type": "code",
   "execution_count": null,
   "id": "75edb2d4",
   "metadata": {},
   "outputs": [],
   "source": [
    "print('Before: ', raw_natl.time)\n",
    "print()\n",
    "natl = geoval.decode_cf_time(raw_natl, units=\"seconds since 2012-10-01\")\n",
    "print('After: ', natl.time)\n",
    "                      "
   ]
  },
  {
   "cell_type": "markdown",
   "id": "406cd3eb",
   "metadata": {},
   "source": [
    "**Validate lat lon coordinates**"
   ]
  },
  {
   "cell_type": "code",
   "execution_count": null,
   "id": "6e981a63",
   "metadata": {},
   "outputs": [],
   "source": [
    "print('Before: ', natl.lon.attrs, natl.lat.attrs)\n",
    "print()\n",
    "natl = geoval.validate_latlon(natl)\n",
    "print('After: ', natl.lon.attrs, natl.lat.attrs)"
   ]
  },
  {
   "cell_type": "markdown",
   "id": "5732c92f",
   "metadata": {},
   "source": [
    "**Validate ssh variable**"
   ]
  },
  {
   "cell_type": "code",
   "execution_count": null,
   "id": "c4a75dd0",
   "metadata": {},
   "outputs": [],
   "source": [
    "print('Before: ', natl.ssh.attrs)\n",
    "print()\n",
    "natl = geoval.validate_ssh(natl)\n",
    "print('After: ', natl.ssh.attrs)\n"
   ]
  },
  {
   "cell_type": "code",
   "execution_count": null,
   "id": "0bef206d",
   "metadata": {},
   "outputs": [],
   "source": [
    "print('Before: ', natl.dims)\n",
    "print()\n",
    "final_natl = natl.sel(lat=slice(32, 44), lon=slice(-66, -54), time=slice('2013-01-10', '2013-03-10'))\n",
    "print('After: ', final_natl.dims)"
   ]
  },
  {
   "cell_type": "code",
   "execution_count": null,
   "id": "13cb1bb1",
   "metadata": {},
   "outputs": [],
   "source": [
    "final_natl"
   ]
  },
  {
   "cell_type": "markdown",
   "id": "c7e0b72e",
   "metadata": {},
   "source": [
    "## Using configuration for processing"
   ]
  },
  {
   "cell_type": "code",
   "execution_count": null,
   "id": "64ed04eb",
   "metadata": {},
   "outputs": [],
   "source": [
    "import yaml\n",
    "from IPython.display import Markdown, display\n",
    "\n",
    "def disp_config(cfg):\n",
    "    display(Markdown(\"\"\"```yaml\\n\"\"\" +yaml.dump(OmegaConf.to_container(cfg), default_flow_style=None, indent=2)+\"\"\"\\n```\"\"\"))"
   ]
  },
  {
   "cell_type": "code",
   "execution_count": null,
   "id": "efb2637e",
   "metadata": {},
   "outputs": [],
   "source": []
  },
  {
   "cell_type": "code",
   "execution_count": null,
   "id": "eae270ba",
   "metadata": {},
   "outputs": [],
   "source": [
    "data_cfg = OmegaConf.load('config/data/gridded.yaml')\n",
    "data = hydra.utils.call(data_cfg)\n",
    "disp_config(data_cfg)"
   ]
  },
  {
   "cell_type": "code",
   "execution_count": null,
   "id": "167ca171",
   "metadata": {},
   "outputs": [],
   "source": [
    "key = 'natl'\n",
    "OmegaConf.resolve(data_cfg[key])\n",
    "disp_config(data_cfg[key])\n",
    "data[key]()"
   ]
  },
  {
   "cell_type": "code",
   "execution_count": null,
   "id": "770621f6",
   "metadata": {},
   "outputs": [],
   "source": [
    "key = 'oi'\n",
    "OmegaConf.resolve(data_cfg[key])\n",
    "disp_config(data_cfg[key])\n",
    "data[key]()"
   ]
  },
  {
   "cell_type": "code",
   "execution_count": null,
   "id": "eb4dda98",
   "metadata": {},
   "outputs": [],
   "source": [
    "key = 'obs'\n",
    "OmegaConf.resolve(data_cfg[key])\n",
    "disp_config(data_cfg[key])\n",
    "data[key]()"
   ]
  },
  {
   "cell_type": "code",
   "execution_count": null,
   "id": "0c4bcb21",
   "metadata": {},
   "outputs": [],
   "source": [
    "hydra.utils.call(data).natl"
   ]
  },
  {
   "cell_type": "code",
   "execution_count": null,
   "id": "55316206",
   "metadata": {},
   "outputs": [],
   "source": [
    "hydra.utils.call(data_cfg).oi()"
   ]
  },
  {
   "cell_type": "code",
   "execution_count": null,
   "id": "477d5384",
   "metadata": {},
   "outputs": [],
   "source": []
  }
 ],
 "metadata": {
  "jupytext": {
   "text_representation": {
    "extension": ".md",
    "format_name": "myst",
    "format_version": 0.13,
    "jupytext_version": "1.14.5"
   }
  },
  "kernelspec": {
   "display_name": "oceanbench",
   "language": "python",
   "name": "oceanbench"
  },
  "source_map": [
   12,
   16,
   20,
   28,
   33,
   37,
   41,
   45,
   47,
   56,
   60,
   66,
   70,
   75,
   79,
   87,
   94,
   96,
   100,
   108,
   112,
   118,
   125,
   132,
   139,
   143,
   147
  ]
 },
 "nbformat": 4,
 "nbformat_minor": 5
}