{
 "cells": [
  {
   "cell_type": "markdown",
   "id": "211c48ed",
   "metadata": {},
   "source": [
    "# Regridding Data"
   ]
  },
  {
   "cell_type": "code",
   "execution_count": null,
   "id": "720fe3ca",
   "metadata": {},
   "outputs": [],
   "source": [
    "cd .."
   ]
  },
  {
   "cell_type": "code",
   "execution_count": null,
   "id": "77b2e460",
   "metadata": {},
   "outputs": [],
   "source": [
    "from omegaconf import OmegaConf\n",
    "import hydra\n",
    "import xarray as xr\n",
    "\n",
    "import oceanbench._src.geoprocessing.validation as geoval"
   ]
  },
  {
   "cell_type": "code",
   "execution_count": null,
   "id": "947585c7",
   "metadata": {},
   "outputs": [],
   "source": [
    "import importlib\n",
    "importlib.reload(geoval)"
   ]
  },
  {
   "cell_type": "code",
   "execution_count": null,
   "id": "91371fe3",
   "metadata": {},
   "outputs": [],
   "source": []
  },
  {
   "cell_type": "code",
   "execution_count": null,
   "id": "7849b327",
   "metadata": {},
   "outputs": [],
   "source": []
  },
  {
   "cell_type": "code",
   "execution_count": null,
   "id": "f03e03d9",
   "metadata": {},
   "outputs": [],
   "source": [
    "raw_natl = xr.open_dataset('../sla-data-registry/NATL60/NATL/ref_new/NATL60-CJM165_NATL_ssh_y2013.1y.nc')"
   ]
  },
  {
   "cell_type": "code",
   "execution_count": null,
   "id": "35c82606",
   "metadata": {},
   "outputs": [],
   "source": [
    "raw_natl"
   ]
  },
  {
   "cell_type": "markdown",
   "id": "9565721d",
   "metadata": {},
   "source": [
    "## Preprocessing steps\n",
    "- set time units \"seconds since 2012-10-01\"\n",
    "- decode times to datetime\n",
    "- add longitude and latitude units\n",
    "- add sea surface height unit\n",
    "- select domain"
   ]
  },
  {
   "cell_type": "markdown",
   "id": "f2702f4e",
   "metadata": {},
   "source": [
    "**Decode time**"
   ]
  },
  {
   "cell_type": "code",
   "execution_count": null,
   "id": "4531c1ef",
   "metadata": {},
   "outputs": [],
   "source": [
    "print('Before: ', raw_natl.time)\n",
    "print()\n",
    "natl = geoval.decode_cf_time(raw_natl, units=\"seconds since 2012-10-01\")\n",
    "print('After: ', natl.time)\n",
    "                      "
   ]
  },
  {
   "cell_type": "markdown",
   "id": "cd32a469",
   "metadata": {},
   "source": [
    "**Validate lat lon coordinates**"
   ]
  },
  {
   "cell_type": "code",
   "execution_count": null,
   "id": "ceee0a68",
   "metadata": {},
   "outputs": [],
   "source": [
    "print('Before: ', natl.lon.attrs, natl.lat.attrs)\n",
    "print()\n",
    "natl = geoval.validate_latlon(natl)\n",
    "print('After: ', natl.lon.attrs, natl.lat.attrs)"
   ]
  },
  {
   "cell_type": "markdown",
   "id": "53432b3b",
   "metadata": {},
   "source": [
    "**Validate ssh variable**"
   ]
  },
  {
   "cell_type": "code",
   "execution_count": null,
   "id": "2e566fc5",
   "metadata": {},
   "outputs": [],
   "source": [
    "print('Before: ', natl.ssh.attrs)\n",
    "print()\n",
    "natl = geoval.validate_ssh(natl)\n",
    "print('After: ', natl.ssh.attrs)\n"
   ]
  },
  {
   "cell_type": "code",
   "execution_count": null,
   "id": "ad367b44",
   "metadata": {},
   "outputs": [],
   "source": [
    "print('Before: ', natl.dims)\n",
    "print()\n",
    "final_natl = natl.sel(lat=slice(32, 44), lon=slice(-66, -54), time=slice('2013-01-10', '2013-03-10'))\n",
    "print('After: ', final_natl.dims)"
   ]
  },
  {
   "cell_type": "code",
   "execution_count": null,
   "id": "617882df",
   "metadata": {},
   "outputs": [],
   "source": [
    "final_natl"
   ]
  },
  {
   "cell_type": "markdown",
   "id": "44006411",
   "metadata": {},
   "source": [
    "## Using configuration for processing"
   ]
  },
  {
   "cell_type": "code",
   "execution_count": null,
   "id": "a86405a9",
   "metadata": {},
   "outputs": [],
   "source": [
    "import yaml\n",
    "from IPython.display import Markdown, display\n",
    "\n",
    "def disp_config(cfg):\n",
    "    display(Markdown(\"\"\"```yaml\\n\"\"\" +yaml.dump(OmegaConf.to_container(cfg), default_flow_style=None, indent=2)+\"\"\"\\n```\"\"\"))"
   ]
  },
  {
   "cell_type": "code",
   "execution_count": null,
   "id": "fbe743f3",
   "metadata": {},
   "outputs": [],
   "source": []
  },
  {
   "cell_type": "code",
   "execution_count": null,
   "id": "7fcd2e34",
   "metadata": {},
   "outputs": [],
   "source": [
    "data_cfg = OmegaConf.load('config/data/gridded.yaml')\n",
    "data = hydra.utils.call(data_cfg)\n",
    "disp_config(data_cfg)"
   ]
  },
  {
   "cell_type": "code",
   "execution_count": null,
   "id": "58e25a28",
   "metadata": {},
   "outputs": [],
   "source": [
    "key = 'natl'\n",
    "OmegaConf.resolve(data_cfg[key])\n",
    "disp_config(data_cfg[key])\n",
    "data[key]()"
   ]
  },
  {
   "cell_type": "code",
   "execution_count": null,
   "id": "18585088",
   "metadata": {},
   "outputs": [],
   "source": [
    "key = 'oi'\n",
    "OmegaConf.resolve(data_cfg[key])\n",
    "disp_config(data_cfg[key])\n",
    "data[key]()"
   ]
  },
  {
   "cell_type": "code",
   "execution_count": null,
   "id": "408fbf0b",
   "metadata": {},
   "outputs": [],
   "source": [
    "key = 'obs'\n",
    "OmegaConf.resolve(data_cfg[key])\n",
    "disp_config(data_cfg[key])\n",
    "data[key]()"
   ]
  },
  {
   "cell_type": "code",
   "execution_count": null,
   "id": "1dfbee50",
   "metadata": {},
   "outputs": [],
   "source": [
    "hydra.utils.call(data).natl"
   ]
  },
  {
   "cell_type": "code",
   "execution_count": null,
   "id": "1ab48f07",
   "metadata": {},
   "outputs": [],
   "source": [
    "hydra.utils.call(data_cfg).oi()"
   ]
  },
  {
   "cell_type": "code",
   "execution_count": null,
   "id": "1a2b2c19",
   "metadata": {},
   "outputs": [],
   "source": []
  }
 ],
 "metadata": {
  "jupytext": {
   "text_representation": {
    "extension": ".md",
    "format_name": "myst",
    "format_version": 0.13,
    "jupytext_version": "1.14.5"
   }
  },
  "kernelspec": {
   "display_name": "oceanbench",
   "language": "python",
   "name": "oceanbench"
  },
  "source_map": [
   12,
   16,
   20,
   28,
   33,
   37,
   41,
   45,
   47,
   56,
   60,
   66,
   70,
   75,
   79,
   87,
   94,
   96,
   100,
   108,
   112,
   118,
   125,
   132,
   139,
   143,
   147
  ]
 },
 "nbformat": 4,
 "nbformat_minor": 5
}