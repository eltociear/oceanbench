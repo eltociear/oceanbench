{
 "cells": [
  {
   "cell_type": "markdown",
   "id": "2578dd0a",
   "metadata": {},
   "source": [
    "# Physical Variables"
   ]
  },
  {
   "cell_type": "markdown",
   "id": "0687a997",
   "metadata": {},
   "source": [
    "> This notebook looks at some canonical transformations of sea surface height (SSH). \n",
    "These are derived variables that can be calculated from SSH and are often very good indicators of performance."
   ]
  },
  {
   "cell_type": "code",
   "execution_count": null,
   "id": "032adbdd",
   "metadata": {},
   "outputs": [],
   "source": [
    "import autoroot\n",
    "import typing as tp\n",
    "from dataclasses import dataclass\n",
    "import numpy as np\n",
    "import pandas as pd\n",
    "import xarray as xr\n",
    "import einops\n",
    "import metpy\n",
    "from metpy.units import units\n",
    "import xarray_dataclasses as xrdataclass\n",
    "from oceanbench._src.datasets.base import XRDABatcher\n",
    "from oceanbench._src.geoprocessing import geostrophic as geocalc\n",
    "import matplotlib.pyplot as plt\n",
    "import seaborn as sns\n",
    "\n",
    "sns.reset_defaults()\n",
    "sns.set_context(context=\"talk\", font_scale=0.7)\n",
    "\n",
    "%load_ext autoreload\n",
    "%autoreload 2"
   ]
  },
  {
   "cell_type": "code",
   "execution_count": null,
   "id": "5c55d923",
   "metadata": {},
   "outputs": [],
   "source": [
    "file = \"/gpfswork/rech/cli/uvo53rl/projects/jejeqx/data/natl60/NATL60-CJM165_GULFSTREAM_ssh_y2013.1y.nc\"\n",
    "!ls $file"
   ]
  },
  {
   "cell_type": "code",
   "execution_count": null,
   "id": "00004711",
   "metadata": {},
   "outputs": [],
   "source": [
    "da = xr.open_dataset(file, decode_times=False)\n",
    "da[\"time\"] = pd.to_datetime(da.time)\n",
    "da = da.sortby(\"time\")\n",
    "# da = da.coarsen(lat=2, boundary=\"trim\").mean()\n",
    "da = da.sel(time=slice(\"2013-01-01\", \"2013-03-01\"))"
   ]
  },
  {
   "cell_type": "markdown",
   "id": "6110514e",
   "metadata": {},
   "source": [
    "## Sea Surface Height"
   ]
  },
  {
   "cell_type": "markdown",
   "id": "39e8de64",
   "metadata": {},
   "source": [
    "$$\n",
    "\\begin{aligned}\n",
    "\\text{Sea Surface Height}[m]: && \n",
    "\\eta &=\\boldsymbol{\\eta}(\\vec{\\mathbf{x}},t) && && \n",
    "\\boldsymbol{\\eta}: \\boldsymbol{\\Omega}\\times\\boldsymbol{T}\\rightarrow\\mathbb{R}\n",
    "\\end{aligned}\n",
    "$$"
   ]
  },
  {
   "cell_type": "code",
   "execution_count": null,
   "id": "d6be5a36",
   "metadata": {},
   "outputs": [],
   "source": [
    "da[\"ssh\"] = da.ssh * units.meters\n",
    "da[\"ssh\"].attrs[\"units\"] = \"m\"\n",
    "da[\"ssh\"].attrs[\"long_name\"] = \"Sea Surface Height\"\n",
    "da[\"ssh\"].attrs[\"standard_name\"] = \"sea_surface_height\"\n",
    "\n",
    "da[\"lat\"] = da.lat * units.degree_north\n",
    "da[\"lat\"].attrs[\"long_name\"] = \"Latitude\"\n",
    "da[\"lat\"].attrs[\"standard_name\"] = \"latitude\"\n",
    "\n",
    "da[\"lon\"] = da.lon * units.degree_east\n",
    "da[\"lon\"].attrs[\"long_name\"] = \"Longitude\"\n",
    "da[\"lon\"].attrs[\"standard_name\"] = \"longitude\""
   ]
  },
  {
   "cell_type": "code",
   "execution_count": null,
   "id": "6745ab31",
   "metadata": {},
   "outputs": [],
   "source": [
    "fig, ax = plt.subplots()\n",
    "\n",
    "da.ssh.isel(time=1).plot.pcolormesh(ax=ax, cmap=\"viridis\")\n",
    "\n",
    "plt.show()"
   ]
  },
  {
   "cell_type": "markdown",
   "id": "bb97109f",
   "metadata": {},
   "source": [
    "## Stream Function"
   ]
  },
  {
   "cell_type": "markdown",
   "id": "320794bd",
   "metadata": {},
   "source": [
    "$$\n",
    "\\begin{aligned}\n",
    "\\text{Stream Function }[ms^{-1}]: && \n",
    "\\psi &=\\boldsymbol{\\psi}(\\vec{\\mathbf{x}},t) && && \n",
    "\\boldsymbol{\\psi}: \\boldsymbol{\\Omega}\\times\\boldsymbol{T}\\rightarrow\\mathbb{R}\n",
    "\\end{aligned}\n",
    "$$\n",
    "\n",
    "$$\n",
    "\\psi = \\frac{g}{f_0}\\eta\n",
    "$$"
   ]
  },
  {
   "cell_type": "markdown",
   "id": "b4b04962",
   "metadata": {},
   "source": [
    "#### Coriolis Parameter\n",
    "\n",
    "$$\n",
    "f_0 = 2\\Omega\\sin(\\varphi)\n",
    "$$\n",
    "\n",
    "where:\n",
    "* $\\Omega$ - ...\n",
    "* $\\varphi$ - latitude (radians)"
   ]
  },
  {
   "cell_type": "code",
   "execution_count": null,
   "id": "837454df",
   "metadata": {},
   "outputs": [],
   "source": [
    "f0 = metpy.calc.coriolis_parameter(latitude=np.deg2rad(da.lat)).mean()\n",
    "f0"
   ]
  },
  {
   "cell_type": "markdown",
   "id": "f50f9422",
   "metadata": {},
   "source": [
    "#### Gravity"
   ]
  },
  {
   "cell_type": "code",
   "execution_count": null,
   "id": "73ef6363",
   "metadata": {},
   "outputs": [],
   "source": [
    "from metpy.constants import earth_gravity as GRAVITY"
   ]
  },
  {
   "cell_type": "code",
   "execution_count": null,
   "id": "f19afa68",
   "metadata": {},
   "outputs": [],
   "source": [
    "GRAVITY"
   ]
  },
  {
   "cell_type": "code",
   "execution_count": null,
   "id": "c314eb03",
   "metadata": {},
   "outputs": [],
   "source": [
    "da = geocalc.streamfunction(da, \"ssh\")"
   ]
  },
  {
   "cell_type": "code",
   "execution_count": null,
   "id": "94b51b09",
   "metadata": {},
   "outputs": [],
   "source": [
    "fig, ax = plt.subplots()\n",
    "\n",
    "da.psi.isel(time=10).plot.pcolormesh(ax=ax, cmap=\"viridis\")\n",
    "\n",
    "plt.show()"
   ]
  },
  {
   "cell_type": "markdown",
   "id": "47848cd1",
   "metadata": {},
   "source": [
    "## Velocities"
   ]
  },
  {
   "cell_type": "markdown",
   "id": "b5381d92",
   "metadata": {},
   "source": [
    "$$\n",
    "\\begin{aligned}\n",
    "\\text{U Velocity}[ms^{-1}]: && \n",
    "u &=\\boldsymbol{u}(\\vec{\\mathbf{x}},t) && && \n",
    "\\boldsymbol{\\psi}: \\boldsymbol{\\Omega}\\times\\boldsymbol{T}\\rightarrow\\mathbb{R} \\\\\n",
    "\\text{V Velocity}[ms^{-1}]: && \n",
    "v &=\\boldsymbol{v}(\\vec{\\mathbf{x}},t) && && \n",
    "\\boldsymbol{\\psi}: \\boldsymbol{\\Omega}\\times\\boldsymbol{T}\\rightarrow\\mathbb{R}\n",
    "\\end{aligned}\n",
    "$$\n",
    "\n",
    "$$\n",
    "\\begin{aligned}\n",
    "u = -\\frac{\\partial \\psi}{\\partial y} && \n",
    "v = \\frac{\\partial \\psi}{\\partial x}\n",
    "\\end{aligned}\n",
    "$$"
   ]
  },
  {
   "cell_type": "code",
   "execution_count": null,
   "id": "353e7283",
   "metadata": {},
   "outputs": [],
   "source": [
    "da = geocalc.geostrophic_velocities(da, variable=\"psi\")"
   ]
  },
  {
   "cell_type": "code",
   "execution_count": null,
   "id": "c2e57670",
   "metadata": {},
   "outputs": [],
   "source": [
    "fig, ax = plt.subplots(ncols=2, figsize=(10,4))\n",
    "\n",
    "da.u.isel(time=10).plot.pcolormesh(ax=ax[0], cmap=\"gray\")\n",
    "da.v.isel(time=10).plot.pcolormesh(ax=ax[1], cmap=\"gray\")\n",
    "\n",
    "plt.tight_layout()\n",
    "plt.show()"
   ]
  },
  {
   "cell_type": "markdown",
   "id": "4b539c83",
   "metadata": {},
   "source": [
    "## Kinetic Energy"
   ]
  },
  {
   "cell_type": "markdown",
   "id": "39e241f0",
   "metadata": {},
   "source": [
    "$$\n",
    "\\begin{aligned}\n",
    "E &= \\frac{1}{2}\\int \\mathbf{u}^2dr \\\\\n",
    "E &\\approx \\frac{1}{2} \\mathbb{E}\\left[ \\mathbf{u}^2\\right] \\\\\n",
    "&= \\frac{1}{2} \\mathbb{E}\\left[ u^2 + v^2\\right]\n",
    "\\end{aligned}\n",
    "$$"
   ]
  },
  {
   "cell_type": "code",
   "execution_count": null,
   "id": "4edb4d34",
   "metadata": {},
   "outputs": [],
   "source": [
    "da = geocalc.kinetic_energy(da, variables=[\"u\", \"v\"])"
   ]
  },
  {
   "cell_type": "code",
   "execution_count": null,
   "id": "3e0451c7",
   "metadata": {},
   "outputs": [],
   "source": [
    "fig, ax = plt.subplots()\n",
    "\n",
    "da.ke.isel(time=1).plot.pcolormesh(ax=ax, cmap=\"YlGnBu_r\", robust=True)\n",
    "\n",
    "plt.show()"
   ]
  },
  {
   "cell_type": "markdown",
   "id": "3dd34f70",
   "metadata": {},
   "source": [
    "## Relative Vorticity"
   ]
  },
  {
   "cell_type": "markdown",
   "id": "56282f79",
   "metadata": {},
   "source": [
    "Somtimes called the *vertical vorticity*.\n",
    "\n",
    "\n",
    "\n",
    "$$\n",
    "\\zeta = \\frac{\\partial v}{\\partial x} - \\frac{\\partial u}{\\partial y}\n",
    "$$\n",
    "\n",
    "Note that the u,v velocities can be calculated from the stream function as\n",
    "\n",
    "$$\n",
    "\\begin{aligned}\n",
    "u &= -\\frac{\\partial \\psi}{\\partial y} && &&\n",
    "v = \\frac{\\partial \\psi}{\\partial x}\\\\\n",
    "\\end{aligned}\n",
    "$$\n",
    "\n",
    "So plugging these into the equation, we get:\n",
    "\n",
    "$$\n",
    "\\begin{aligned}\n",
    "\\zeta &= \n",
    "\\frac{\\partial}{\\partial x}\\left(\\frac{\\partial \\psi}{\\partial x}\\right) - \n",
    "\\frac{\\partial}{\\partial y}\\left( -\\frac{\\partial \\psi}{\\partial y}\\right) \\\\\n",
    "\\zeta &= \n",
    "\\frac{\\partial^2 \\psi}{\\partial x^2}+ \\frac{\\partial^2 \\psi}{\\partial y^2}\\\\\n",
    "\\zeta &=\\nabla^2\\psi\n",
    "\\end{aligned}\n",
    "$$\n",
    "\n",
    "We can also calculate a normalized version\n",
    "\n",
    "$$\n",
    "\\bar{\\zeta} = \\frac{\\zeta}{f_0}\n",
    "$$\n",
    "\n",
    "Note: This is closely related to the geostrophic eqns:\n",
    "\n",
    "$$\n",
    "\\begin{aligned}\n",
    "\\text{Relative Vorticity }[s^{-1}]: && \n",
    "\\zeta &=\\boldsymbol{\\zeta}(\\vec{\\mathbf{x}},t) && && \n",
    "\\boldsymbol{\\xi}: \\boldsymbol{\\Omega}\\times\\boldsymbol{T}\\rightarrow\\mathbb{R}\n",
    "\\end{aligned}\n",
    "$$\n",
    "\n",
    "$$\n",
    "\\zeta = \\nabla^2\\psi\n",
    "$$"
   ]
  },
  {
   "cell_type": "code",
   "execution_count": null,
   "id": "8e66f468",
   "metadata": {},
   "outputs": [],
   "source": [
    "da = geocalc.relative_vorticity(da, variables=[\"u\", \"v\"])\n",
    "# da = geocalc.coriolis_normalized(da, \"vort_r\")"
   ]
  },
  {
   "cell_type": "code",
   "execution_count": null,
   "id": "a347c690",
   "metadata": {},
   "outputs": [],
   "source": [
    "fig, ax = plt.subplots()\n",
    "\n",
    "da.vort_r.isel(time=1).plot.pcolormesh(ax=ax, cmap=\"RdBu_r\")\n",
    "\n",
    "plt.show()"
   ]
  },
  {
   "cell_type": "markdown",
   "id": "d22b28bf",
   "metadata": {},
   "source": [
    "## Absolute Vorticity"
   ]
  },
  {
   "cell_type": "markdown",
   "id": "eb8fbfcd",
   "metadata": {},
   "source": [
    "Somtimes called the *horizontal divergence*.\n",
    "\n",
    "\n",
    "\n",
    "$$\n",
    "\\zeta = \\frac{\\partial v}{\\partial x} + \\frac{\\partial u}{\\partial y}\n",
    "$$\n",
    "\n",
    "Note that the u,v velocities can be calculated from the stream function as\n",
    "\n",
    "$$\n",
    "\\begin{aligned}\n",
    "u &= -\\frac{\\partial \\psi}{\\partial y} && &&\n",
    "v = \\frac{\\partial \\psi}{\\partial x}\\\\\n",
    "\\end{aligned}\n",
    "$$\n",
    "\n",
    "So plugging these into the equation, we get:\n",
    "\n",
    "$$\n",
    "\\begin{aligned}\n",
    "\\zeta &= \n",
    "\\frac{\\partial}{\\partial x}\\left(\\frac{\\partial \\psi}{\\partial x}\\right) + \n",
    "\\frac{\\partial}{\\partial y}\\left( -\\frac{\\partial \\psi}{\\partial y}\\right) \\\\\n",
    "\\zeta &= \n",
    "\\frac{\\partial^2 \\psi}{\\partial x^2} - \\frac{\\partial^2 \\psi}{\\partial y^2}\n",
    "\\end{aligned}\n",
    "$$\n",
    "\n",
    "We can also calculate a normalized version\n",
    "\n",
    "$$\n",
    "\\bar{\\zeta} = \\frac{\\zeta}{f_0}\n",
    "$$"
   ]
  },
  {
   "cell_type": "code",
   "execution_count": null,
   "id": "4a158845",
   "metadata": {},
   "outputs": [],
   "source": [
    "da = geocalc.absolute_vorticity(da, variables=[\"u\", \"v\"])\n",
    "da = geocalc.coriolis_normalized(da, \"vort_a\")"
   ]
  },
  {
   "cell_type": "code",
   "execution_count": null,
   "id": "d1144798",
   "metadata": {},
   "outputs": [],
   "source": [
    "fig, ax = plt.subplots()\n",
    "\n",
    "da.vort_a.isel(time=10).plot.pcolormesh(ax=ax, cmap=\"RdBu_r\")\n",
    "\n",
    "plt.show()"
   ]
  },
  {
   "cell_type": "markdown",
   "id": "5400cb06",
   "metadata": {},
   "source": [
    "## Divergence"
   ]
  },
  {
   "cell_type": "markdown",
   "id": "7e68d06d",
   "metadata": {},
   "source": [
    "$$\n",
    "\\nabla \\cdot \\vec{\\mathbf{u}} = \\frac{\\partial u}{\\partial x} + \\frac{\\partial v}{\\partial y}\n",
    "$$"
   ]
  },
  {
   "cell_type": "code",
   "execution_count": null,
   "id": "a3654bbe",
   "metadata": {},
   "outputs": [],
   "source": [
    "da = geocalc.divergence(da, variables=[\"u\", \"v\"])\n",
    "da = geocalc.coriolis_normalized(da, \"div\")"
   ]
  },
  {
   "cell_type": "code",
   "execution_count": null,
   "id": "a5939c30",
   "metadata": {},
   "outputs": [],
   "source": [
    "fig, ax = plt.subplots()\n",
    "\n",
    "da.div.isel(time=10).plot.pcolormesh(ax=ax, cmap=\"RdBu_r\")\n",
    "\n",
    "plt.show()"
   ]
  },
  {
   "cell_type": "markdown",
   "id": "8faea7f9",
   "metadata": {},
   "source": [
    "## Enstropy"
   ]
  },
  {
   "cell_type": "markdown",
   "id": "ce15b7d6",
   "metadata": {},
   "source": [
    "This is a summarization of the relative vorticity\n",
    "\n",
    "$$\n",
    "\\begin{aligned}\n",
    "Z &= \\frac{1}{2}\\int \\zeta^2 dr \\\\\n",
    "Z &\\approx \\frac{1}{2} \\mathbb{E}\\left[ \\zeta^2 \\right] \\\\\n",
    "\\end{aligned}\n",
    "$$"
   ]
  },
  {
   "cell_type": "code",
   "execution_count": null,
   "id": "1b8aedda",
   "metadata": {},
   "outputs": [],
   "source": [
    "da = geocalc.enstrophy(da, variable=\"vort_r\")\n",
    "da = geocalc.coriolis_normalized(da, \"ens\")"
   ]
  },
  {
   "cell_type": "code",
   "execution_count": null,
   "id": "43add1d3",
   "metadata": {},
   "outputs": [],
   "source": [
    "fig, ax = plt.subplots()\n",
    "\n",
    "da.ens.isel(time=10).plot.pcolormesh(ax=ax, cmap=\"RdBu_r\")\n",
    "\n",
    "plt.show()"
   ]
  },
  {
   "cell_type": "markdown",
   "id": "f22d6d2e",
   "metadata": {},
   "source": [
    "## Strain"
   ]
  },
  {
   "cell_type": "markdown",
   "id": "da365b81",
   "metadata": {},
   "source": [
    "### Shear Strain"
   ]
  },
  {
   "cell_type": "markdown",
   "id": "0a68954f",
   "metadata": {},
   "source": [
    "We also have the *Shearing Deformation* given by:\n",
    "\n",
    "$$\n",
    "S_s = \\frac{\\partial v}{\\partial x} + \\frac{\\partial u}{\\partial y}\n",
    "$$"
   ]
  },
  {
   "cell_type": "code",
   "execution_count": null,
   "id": "62de430d",
   "metadata": {},
   "outputs": [],
   "source": [
    "da = geocalc.shear_strain(da, variables=[\"u\", \"v\"])\n",
    "da"
   ]
  },
  {
   "cell_type": "code",
   "execution_count": null,
   "id": "03852407",
   "metadata": {},
   "outputs": [],
   "source": [
    "fig, ax = plt.subplots()\n",
    "\n",
    "da.shear_strain.isel(time=10).plot.pcolormesh(ax=ax, cmap=\"RdBu_r\")\n",
    "\n",
    "plt.show()"
   ]
  },
  {
   "cell_type": "markdown",
   "id": "e2f8cced",
   "metadata": {},
   "source": [
    "### Normal Strain"
   ]
  },
  {
   "cell_type": "markdown",
   "id": "3664b17a",
   "metadata": {},
   "source": [
    "Sometimes called *Stretching Deformation*.\n",
    "\n",
    "\n",
    "$$\n",
    "\\sigma_n = \\frac{\\partial u}{\\partial x} - \\frac{\\partial v}{\\partial y}\n",
    "$$"
   ]
  },
  {
   "cell_type": "code",
   "execution_count": null,
   "id": "84a32927",
   "metadata": {},
   "outputs": [],
   "source": [
    "da = geocalc.tensor_strain(da, variables=[\"u\", \"v\"])"
   ]
  },
  {
   "cell_type": "code",
   "execution_count": null,
   "id": "49b2ea6a",
   "metadata": {},
   "outputs": [],
   "source": [
    "fig, ax = plt.subplots()\n",
    "\n",
    "da.tensor_strain.isel(time=10).plot.pcolormesh(ax=ax, cmap=\"RdBu_r\")\n",
    "\n",
    "plt.show()"
   ]
  },
  {
   "cell_type": "markdown",
   "id": "b75bcbe1",
   "metadata": {},
   "source": [
    "### Strain Magnitude"
   ]
  },
  {
   "cell_type": "markdown",
   "id": "7b47be4f",
   "metadata": {},
   "source": [
    "Often, we are interested in the  give by:\n",
    "\n",
    "$$\n",
    "\\sigma = \\sqrt{\\sigma_n^2 + \\sigma_s^2}\n",
    "$$\n",
    "\n",
    "**Note**: Also known as the *total deformation*.\n",
    "\n",
    "The normal and shear strains are coordinate invariant.\n",
    "The vorticity and divergence and strain magnitude is coordinate invariant!\n",
    "\n",
    "Often times, we use the relative strain magnitude:\n",
    "\n",
    "$$\n",
    "\\bar{\\sigma} = \\frac{\\sigma}{f_0}\n",
    "$$"
   ]
  },
  {
   "cell_type": "code",
   "execution_count": null,
   "id": "e638c61c",
   "metadata": {},
   "outputs": [],
   "source": [
    "da = geocalc.strain_magnitude(da, variables=[\"u\", \"v\"])\n",
    "da = geocalc.coriolis_normalized(da, variable=\"strain\")"
   ]
  },
  {
   "cell_type": "code",
   "execution_count": null,
   "id": "ddb61841",
   "metadata": {},
   "outputs": [],
   "source": [
    "import cmocean as cmo\n",
    "\n",
    "fig, ax = plt.subplots()\n",
    "\n",
    "da.strain.isel(time=10).plot.pcolormesh(ax=ax, cmap=cmo.cm.speed, robust=True)\n",
    "\n",
    "plt.show()"
   ]
  },
  {
   "cell_type": "markdown",
   "id": "8b3773c8",
   "metadata": {},
   "source": [
    "## Okubo-Weiss Parameter"
   ]
  },
  {
   "cell_type": "markdown",
   "id": "446803b5",
   "metadata": {},
   "source": [
    "> OW parameter [Okubo, 1970; Weiss, 1991] describes the relative dominance of deformation with respect to rotation of the flow.\n",
    "\n",
    "This is a combination of the Strain (deformation rate) and the vorticity\n",
    "\n",
    "$$\n",
    "\\sigma_o = \\sigma_n^2 + \\sigma_s^2 - \\zeta^2\n",
    "$$\n",
    "\n",
    "where:\n",
    "\n",
    "$$\n",
    "\\begin{aligned}\n",
    "\\text{Normal Strain}: && &&\n",
    "\\sigma_n &= \\frac{\\partial u}{\\partial x} - \\frac{\\partial v}{\\partial y} \\\\\n",
    "\\text{Shear Strain}: && &&\n",
    "\\sigma_s &= \\frac{\\partial v}{\\partial x} + \\frac{\\partial u}{\\partial y} \\\\\n",
    "\\text{Relative Vorticity}: && &&\n",
    "\\zeta &= \\frac{\\partial v}{\\partial x} - \\frac{\\partial u}{\\partial y}\n",
    "\\end{aligned}\n",
    "$$\n",
    "\n",
    "**Sources**:\n",
    "\n",
    "* [Wiki](https://en.wikipedia.org/wiki/Okubo%E2%80%93Weiss_parameter)\n",
    "* [Paper](https://agupubs.onlinelibrary.wiley.com/doi/full/10.1002/jgrc.20318)\n",
    "* [Eddy-Tracker Python Lib](https://py-eddy-tracker.readthedocs.io/en/stable/python_module/06_grid_manipulation/pet_okubo_weiss.html)"
   ]
  },
  {
   "cell_type": "code",
   "execution_count": null,
   "id": "51c6a6cf",
   "metadata": {},
   "outputs": [],
   "source": [
    "da = geocalc.okubo_weiss_param(da, variables=[\"u\", \"v\"])"
   ]
  },
  {
   "cell_type": "code",
   "execution_count": null,
   "id": "ad13efd9",
   "metadata": {},
   "outputs": [],
   "source": [
    "import cmocean as cmo\n",
    "\n",
    "fig, ax = plt.subplots()\n",
    "\n",
    "da.ow.isel(time=10).plot.contourf(ax=ax, cmap=\"cividis\")\n",
    "\n",
    "plt.show()"
   ]
  },
  {
   "cell_type": "code",
   "execution_count": null,
   "id": "227aa16c",
   "metadata": {},
   "outputs": [],
   "source": []
  },
  {
   "cell_type": "code",
   "execution_count": null,
   "id": "43812138",
   "metadata": {},
   "outputs": [],
   "source": []
  }
 ],
 "metadata": {
  "jupytext": {
   "text_representation": {
    "extension": ".md",
    "format_name": "myst",
    "format_version": 0.13,
    "jupytext_version": "1.14.5"
   }
  },
  "kernelspec": {
   "display_name": "Python [conda env:miniconda3-jejeqx]",
   "language": "python",
   "name": "conda-env-miniconda3-jejeqx-py"
  },
  "source_map": [
   12,
   16,
   21,
   44,
   49,
   55,
   59,
   69,
   84,
   90,
   94,
   108,
   120,
   123,
   127,
   131,
   135,
   139,
   145,
   149,
   173,
   177,
   185,
   189,
   199,
   203,
   209,
   213,
   265,
   270,
   276,
   280,
   317,
   322,
   328,
   332,
   338,
   343,
   349,
   353,
   364,
   369,
   375,
   379,
   383,
   391,
   396,
   402,
   406,
   415,
   419,
   425,
   429,
   448,
   453,
   461,
   465,
   494,
   498,
   508,
   512
  ]
 },
 "nbformat": 4,
 "nbformat_minor": 5
}