{
 "cells": [
  {
   "cell_type": "markdown",
   "id": "1d7f4b9b",
   "metadata": {},
   "source": [
    "# Power Spectrum"
   ]
  },
  {
   "cell_type": "markdown",
   "id": "85b77697",
   "metadata": {},
   "source": [
    "> In the ocean community, we often operator in the Fourier domain. \n",
    "This is useful for assessing the quality of our models and it can also be useful for learning.\n",
    "In this notebook, we showcase how oceanbench has two fundamental transformations that are useful for both cases: isotropic and spacetime Fourier transformations."
   ]
  },
  {
   "cell_type": "code",
   "execution_count": null,
   "id": "78e4b813",
   "metadata": {},
   "outputs": [],
   "source": [
    "import autoroot\n",
    "import typing as tp\n",
    "from dataclasses import dataclass\n",
    "import numpy as np\n",
    "import pandas as pd\n",
    "import xarray as xr\n",
    "import einops\n",
    "from metpy.units import units\n",
    "import pint_xarray\n",
    "import xarray_dataclasses as xrdataclass\n",
    "from oceanbench._src.datasets.base import XRDABatcher\n",
    "from oceanbench._src.geoprocessing.spatial import transform_360_to_180\n",
    "import matplotlib.pyplot as plt\n",
    "import matplotlib.colors as colors\n",
    "import matplotlib.ticker as ticker\n",
    "import seaborn as sns\n",
    "\n",
    "sns.reset_defaults()\n",
    "sns.set_context(context=\"talk\", font_scale=0.7)\n",
    "\n",
    "%load_ext autoreload\n",
    "%autoreload 2"
   ]
  },
  {
   "cell_type": "code",
   "execution_count": null,
   "id": "00d14126",
   "metadata": {},
   "outputs": [],
   "source": [
    "!ls /gpfswork/rech/yrf/commun/data_challenges/dc20a_osse/staging/results/4DVarNet"
   ]
  },
  {
   "cell_type": "code",
   "execution_count": null,
   "id": "79652167",
   "metadata": {},
   "outputs": [],
   "source": [
    "file = \"/gpfswork/rech/yrf/commun/data_challenges/dc20a_osse/staging/results/4DVarNet/2020a_SSH_mapping_NATL60_4DVarNet_v2022_nadirswot_GF_GF.nc\"\n",
    "\n",
    "# file = \"/gpfswork/rech/yrf/commun/data_challenges/dc20a_osse/staging/results/MIOST/2020a_SSH_mapping_NATL60_MIOST_swot_en_j1_tpn_g2.nc\"\n",
    "# file = \"/gpfswork/rech/yrf/commun/data_challenges/dc20a_osse/staging/results/DUACS/ssh_DUACS_swot_4nadir.nc\"\n",
    "# file = \"/gpfswork/rech/yrf/commun/data_challenges/dc20a_osse/staging/results/BFNQG/2020a_SSH_mapping_NATL60_BFN_Steady_State_QG1L_swot_en_j1_tpn_g2.nc\"\n",
    "!ls $file"
   ]
  },
  {
   "cell_type": "code",
   "execution_count": null,
   "id": "4cfff866",
   "metadata": {},
   "outputs": [],
   "source": [
    "def open_ssh_results(file, variable=\"ssh_mod\"):\n",
    "    \n",
    "    da = xr.open_dataset(file, decode_times=True)\n",
    "    \n",
    "    da = da.sortby(\"time\")\n",
    "    \n",
    "    da = da.rename({variable: \"ssh\"})\n",
    "    \n",
    "    da = da.sel(time=slice(\"2012-10-22\", \"2012-12-01\"))\n",
    "    \n",
    "    return da"
   ]
  },
  {
   "cell_type": "code",
   "execution_count": null,
   "id": "d02ede39",
   "metadata": {},
   "outputs": [],
   "source": [
    "da = open_ssh_results(file, variable=\"ssh\")\n",
    "da"
   ]
  },
  {
   "cell_type": "code",
   "execution_count": null,
   "id": "71772255",
   "metadata": {},
   "outputs": [],
   "source": [
    "# da = xr.open_dataset(file, decode_times=False)\n",
    "# da[\"time\"] = pd.to_datetime(da.time)\n",
    "# da = da.sortby(\"time\")\n",
    "# da = da.sel(time=slice(\"2012-10-22\", \"2012-12-01\"))\n",
    "# da = da.rename({\"gssh\": \"ssh\"})"
   ]
  },
  {
   "cell_type": "code",
   "execution_count": null,
   "id": "9856ac9c",
   "metadata": {},
   "outputs": [],
   "source": [
    "da[\"ssh\"].attrs[\"long_name\"] = \"Sea Surface Height\"\n",
    "da[\"ssh\"].attrs[\"standard_name\"] = \"sea_surface_height\"\n",
    "\n",
    "da[\"lat\"] = da.lat.pint.quantify(\"degrees_north\")\n",
    "da[\"lat\"].attrs[\"long_name\"] = \"Latitude\"\n",
    "da[\"lat\"].attrs[\"standard_name\"] = \"latitude\"\n",
    "\n",
    "da[\"lon\"].attrs[\"long_name\"] = \"Longitude\"\n",
    "da[\"lon\"].attrs[\"standard_name\"] = \"longitude\"\n",
    "\n",
    "da[\"lon\"] = transform_360_to_180(da.lon)"
   ]
  },
  {
   "cell_type": "code",
   "execution_count": null,
   "id": "46f2b430",
   "metadata": {},
   "outputs": [],
   "source": [
    "da = da.pint.quantify(\n",
    "    {\"ssh\": \"meter\", \n",
    "     \"lon\": \"degrees_east\", \n",
    "     \"lat\": \"degrees_north\",\n",
    "     \"time\": \"nanoseconds\"\n",
    "    }\n",
    ")\n",
    "da"
   ]
  },
  {
   "cell_type": "markdown",
   "id": "a849cb23",
   "metadata": {},
   "source": [
    "## Rescaling"
   ]
  },
  {
   "cell_type": "markdown",
   "id": "ec34349e",
   "metadata": {},
   "source": [
    "In a previous notebook, we showed how we can do lat/lon"
   ]
  },
  {
   "cell_type": "markdown",
   "id": "efdd58bb",
   "metadata": {},
   "source": [
    "#### Degrees to Meters\n",
    "\n",
    "It is often more useful to have things in meters instead of degrees. The units are more meaningful and easier to interpret. So we can do a simple degree to meters transformation included in the library."
   ]
  },
  {
   "cell_type": "code",
   "execution_count": null,
   "id": "2285553a",
   "metadata": {},
   "outputs": [],
   "source": [
    "from oceanbench._src.geoprocessing.spatial import latlon_deg2m"
   ]
  },
  {
   "cell_type": "code",
   "execution_count": null,
   "id": "d9977cdb",
   "metadata": {},
   "outputs": [],
   "source": [
    "da_scaled = latlon_deg2m(da, mean=True)\n",
    "da_scaled"
   ]
  },
  {
   "cell_type": "markdown",
   "id": "8e55d0a8",
   "metadata": {},
   "source": [
    "#### `datetime64` to Days"
   ]
  },
  {
   "cell_type": "code",
   "execution_count": null,
   "id": "3d959e00",
   "metadata": {},
   "outputs": [],
   "source": [
    "from oceanbench._src.geoprocessing.temporal import time_rescale\n",
    "import pandas as pd\n",
    "import pint"
   ]
  },
  {
   "cell_type": "code",
   "execution_count": null,
   "id": "b58be733",
   "metadata": {},
   "outputs": [],
   "source": [
    "t0 = \"2012-10-22\"\n",
    "freq_dt = 1\n",
    "freq_unit = \"D\"\n",
    "\n",
    "\n",
    "da_scaled = time_rescale(da_scaled, freq_dt=freq_dt, freq_unit=freq_unit, t0=t0)\n",
    "\n",
    "da_scaled"
   ]
  },
  {
   "cell_type": "markdown",
   "id": "3d716e25",
   "metadata": {},
   "source": [
    "## Spectral Domain"
   ]
  },
  {
   "cell_type": "markdown",
   "id": "ac11d344",
   "metadata": {},
   "source": [
    "Now, we can look at how we can represent the data within the Fourier Domain"
   ]
  },
  {
   "cell_type": "markdown",
   "id": "3d395eca",
   "metadata": {},
   "source": [
    "### Isotropic Assumption"
   ]
  },
  {
   "cell_type": "code",
   "execution_count": null,
   "id": "eae4c8e4",
   "metadata": {},
   "outputs": [],
   "source": [
    "from oceanbench._src.metrics import power_spectrum as psdcalc\n",
    "from oceanbench._src.preprocessing.mean import xr_cond_average"
   ]
  },
  {
   "cell_type": "code",
   "execution_count": null,
   "id": "7556a92f",
   "metadata": {},
   "outputs": [],
   "source": [
    "da_psd_iso = psdcalc.psd_isotropic(da_scaled, \"ssh\", [\"lon\", \"lat\"])\n",
    "da_psd_iso = xr_cond_average(da_psd_iso, dims=[\"time\"], drop=True)"
   ]
  },
  {
   "cell_type": "code",
   "execution_count": null,
   "id": "5c5cd64a",
   "metadata": {},
   "outputs": [],
   "source": [
    "da_psd_iso"
   ]
  },
  {
   "cell_type": "markdown",
   "id": "ad95e6bc",
   "metadata": {},
   "source": [
    "### Plots"
   ]
  },
  {
   "cell_type": "code",
   "execution_count": null,
   "id": "8eb7da18",
   "metadata": {},
   "outputs": [],
   "source": [
    "class PlotPSDIsotropic:\n",
    "        \n",
    "    def init_fig(self, ax=None, figsize=None):\n",
    "        if ax is None:\n",
    "            figsize = (5,4) if figsize is None else figsize\n",
    "            self.fig, self.ax = plt.subplots(figsize=figsize)\n",
    "        else:\n",
    "            self.ax = ax\n",
    "            self.fig = plt.gcf()\n",
    "        \n",
    "    def plot_wavenumber(self, da, freq_scale=1.0, units=None, **kwargs):\n",
    "        \n",
    "        if units is not None:\n",
    "            xlabel = f\"Wavenumber [cycles/{units}]\"\n",
    "        else:\n",
    "            xlabel = f\"Wavenumber\"\n",
    "        \n",
    "        self.ax.plot(da.freq_r * freq_scale, da, **kwargs)\n",
    "\n",
    "        self.ax.set(\n",
    "            yscale=\"log\", xscale=\"log\",\n",
    "            xlabel=xlabel,\n",
    "            ylabel=f\"PSD [{da.name}]\"\n",
    "        )\n",
    "\n",
    "        self.ax.legend()\n",
    "        self.ax.grid(which=\"both\", alpha=0.5)\n",
    "        \n",
    "    def plot_wavelength(self, da, freq_scale=1.0, units=None, **kwargs):\n",
    "        \n",
    "        if units is not None:\n",
    "            xlabel = f\"Wavelength [{units}]\"\n",
    "        else:\n",
    "            xlabel = f\"Wavelength\"\n",
    "        \n",
    "        self.ax.plot(1/(da.freq_r * freq_scale), da, **kwargs)\n",
    "        \n",
    "        self.ax.set(\n",
    "            yscale=\"log\", xscale=\"log\",\n",
    "            xlabel=xlabel,\n",
    "            ylabel=f\"PSD [{da.name}]\"\n",
    "        )\n",
    "\n",
    "        self.ax.xaxis.set_major_formatter(\"{x:.0f}\")\n",
    "        self.ax.invert_xaxis()\n",
    "        \n",
    "        self.ax.legend()\n",
    "        self.ax.grid(which=\"both\", alpha=0.5)\n",
    "                \n",
    "    def plot_both(self, da, freq_scale=1.0, units=None, **kwargs):\n",
    "        \n",
    "        if units is not None:\n",
    "            xlabel = f\"Wavelength [{units}]\"\n",
    "        else:\n",
    "            xlabel = f\"Wavelength\"\n",
    "        \n",
    "        self.plot_wavenumber(da=da, units=units, freq_scale=freq_scale, **kwargs)\n",
    "        \n",
    "        self.secax = self.ax.secondary_xaxis(\n",
    "            \"top\", functions=(lambda x: 1 / (x + 1e-20), lambda x: 1 / (x + 1e-20))\n",
    "        )\n",
    "        self.secax.xaxis.set_major_formatter(\"{x:.0f}\")\n",
    "        self.secax.set(xlabel=xlabel)"
   ]
  },
  {
   "cell_type": "markdown",
   "id": "c44bcf34",
   "metadata": {},
   "source": [
    "#### Wavenumber"
   ]
  },
  {
   "cell_type": "code",
   "execution_count": null,
   "id": "7c0c96cc",
   "metadata": {},
   "outputs": [],
   "source": [
    "psd_iso_plot = PlotPSDIsotropic()\n",
    "psd_iso_plot.init_fig()\n",
    "psd_iso_plot.plot_wavenumber(\n",
    "    da_psd_iso.ssh,\n",
    "    freq_scale=1e3, \n",
    "    units=\"km\",\n",
    "    label=\"NATL60\"\n",
    ")\n",
    "plt.show()"
   ]
  },
  {
   "cell_type": "markdown",
   "id": "d9284bbb",
   "metadata": {},
   "source": [
    "#### Wavelength"
   ]
  },
  {
   "cell_type": "code",
   "execution_count": null,
   "id": "67f19217",
   "metadata": {},
   "outputs": [],
   "source": [
    "psd_iso_plot = PlotPSDIsotropic()\n",
    "psd_iso_plot.init_fig()\n",
    "psd_iso_plot.plot_wavelength(\n",
    "    da_psd_iso.ssh,\n",
    "    freq_scale=1e3, \n",
    "    units=\"km\",\n",
    "    label=\"NATL60\"\n",
    ")\n",
    "plt.show()"
   ]
  },
  {
   "cell_type": "markdown",
   "id": "6ccc11da",
   "metadata": {},
   "source": [
    "#### Wavenumber + Wavelength"
   ]
  },
  {
   "cell_type": "code",
   "execution_count": null,
   "id": "f8baf874",
   "metadata": {},
   "outputs": [],
   "source": [
    "psd_iso_plot = PlotPSDIsotropic()\n",
    "psd_iso_plot.init_fig()\n",
    "psd_iso_plot.plot_both(\n",
    "    da_psd_iso.ssh,\n",
    "    freq_scale=1e3, \n",
    "    units=\"km\",\n",
    "    label=\"NATL60\"\n",
    ")\n",
    "plt.show()"
   ]
  },
  {
   "cell_type": "markdown",
   "id": "85365afb",
   "metadata": {},
   "source": [
    "### Spatial Temporal"
   ]
  },
  {
   "cell_type": "markdown",
   "id": "55cc687b",
   "metadata": {},
   "source": [
    "#### Time vs Longitude"
   ]
  },
  {
   "cell_type": "code",
   "execution_count": null,
   "id": "ccf827ce",
   "metadata": {},
   "outputs": [],
   "source": [
    "# frequency dims\n",
    "da_psd_st = psdcalc.psd_spacetime(da_scaled, \"ssh\", [\"time\", \"lon\"])\n",
    "\n",
    "# average other dims\n",
    "da_psd_st = xr_cond_average(da_psd_st, dims=[\"lat\"], drop=True)"
   ]
  },
  {
   "cell_type": "code",
   "execution_count": null,
   "id": "486b4720",
   "metadata": {},
   "outputs": [],
   "source": [
    "da_psd_st"
   ]
  },
  {
   "cell_type": "code",
   "execution_count": null,
   "id": "ddfa3d6a",
   "metadata": {},
   "outputs": [],
   "source": [
    "import matplotlib.pyplot as plt\n",
    "import matplotlib.colors as colors\n",
    "import matplotlib.ticker as ticker\n",
    "\n",
    "\n",
    "class PlotPSDSpaceTime:\n",
    "    def init_fig(self, ax=None, figsize=None):\n",
    "        if ax is None:\n",
    "            figsize = (5,4) if figsize is None else figsize\n",
    "            self.fig, self.ax = plt.subplots(figsize=figsize)\n",
    "        else:\n",
    "            self.ax = ax\n",
    "            self.fig = plt.gcf()\n",
    "        \n",
    "    def plot_wavenumber(\n",
    "        self, \n",
    "        da, \n",
    "        space_scale: float=1.0,\n",
    "        space_units: str=None,\n",
    "        time_units: str=None,\n",
    "        psd_units: float=None,\n",
    "        **kwargs):\n",
    "        \n",
    "        if space_units is not None:\n",
    "            xlabel = f\"Wavenumber [cycles/{space_units}]\"\n",
    "        else:\n",
    "            xlabel = f\"Wavenumber\"\n",
    "        if time_units is not None:\n",
    "            ylabel = f\"Frequency [cycles/{time_units}]\"\n",
    "        else:\n",
    "            ylabel = f\"Frequency\"\n",
    "\n",
    "        if psd_units is None:\n",
    "            cbar_label = \"PSD\"\n",
    "        else:\n",
    "            cbar_label = f\"PSD [{psd_units}]\"\n",
    "        \n",
    "        locator = ticker.LogLocator()\n",
    "        norm = colors.LogNorm()\n",
    "        \n",
    "        pts = self.ax.contourf(\n",
    "            1/(da.freq_lon*space_scale),\n",
    "            1/da.freq_time, \n",
    "            da.transpose(\"freq_time\", \"freq_lon\"), \n",
    "            norm=norm, \n",
    "            locator=locator, \n",
    "            cmap=kwargs.pop(\"cmap\", \"RdYlGn\"), \n",
    "            extend=kwargs.pop(\"extend\", \"both\"),\n",
    "            **kwargs\n",
    "        )\n",
    "\n",
    "        self.ax.set(\n",
    "            yscale=\"log\",\n",
    "            xscale=\"log\",\n",
    "            xlabel=xlabel,\n",
    "            ylabel=ylabel,\n",
    "        )\n",
    "        # colorbar\n",
    "        fmt = ticker.LogFormatterMathtext(base=10)\n",
    "        cbar = plt.colorbar(\n",
    "            pts,\n",
    "            ax=self.ax,\n",
    "            pad=0.02,\n",
    "            format=fmt,\n",
    "        )\n",
    "        cbar.ax.set_ylabel(cbar_label)\n",
    "        self.ax.invert_xaxis()\n",
    "        self.ax.invert_yaxis()\n",
    "        self.ax.grid(which=\"both\", linestyle=\"--\", linewidth=1, color=\"black\", alpha=0.2)\n",
    "\n",
    "\n",
    "    def plot_wavelength(        \n",
    "        self, \n",
    "        da, \n",
    "        space_scale: float=1.0,\n",
    "        space_units: str=None,\n",
    "        time_units: str=None,\n",
    "        psd_units: float=None,\n",
    "        **kwargs\n",
    "    ):\n",
    "    \n",
    "        if space_units is not None:\n",
    "            xlabel = f\"Wavelength [{space_units}]\"\n",
    "        else:\n",
    "            xlabel = f\"Wavelength\"\n",
    "            \n",
    "        if time_units is not None:\n",
    "            ylabel = f\"Period [{time_units}]\"\n",
    "        else:\n",
    "            ylabel = f\"Period\"\n",
    "            \n",
    "        if psd_units is None:\n",
    "            cbar_label = \"PSD\"\n",
    "        else:\n",
    "            cbar_label = f\"PSD [{psd_units}]\"\n",
    "            \n",
    "        self.plot_wavenumber(\n",
    "            da=da, space_scale=space_scale, \n",
    "            space_units=space_units, time_units=time_units,\n",
    "            psd_units=psd_units\n",
    "        )\n",
    "\n",
    "        self.ax.set(\n",
    "            xlabel=xlabel, \n",
    "            ylabel=ylabel\n",
    "        )\n",
    "        self.ax.xaxis.set_major_formatter(\"{x:.0f}\")\n",
    "        self.ax.yaxis.set_major_formatter(\"{x:.0f}\")"
   ]
  },
  {
   "cell_type": "markdown",
   "id": "44f1dd6d",
   "metadata": {},
   "source": [
    "#### Wavenumber"
   ]
  },
  {
   "cell_type": "code",
   "execution_count": null,
   "id": "a737d81f",
   "metadata": {},
   "outputs": [],
   "source": [
    "psd_st_plot = PlotPSDSpaceTime()\n",
    "psd_st_plot.init_fig()\n",
    "psd_st_plot.plot_wavenumber(\n",
    "    da_psd_st.ssh,\n",
    "    space_scale=1e3, \n",
    "    space_units=\"km\", \n",
    "    time_units=\"days\",\n",
    "    psd_units=\"SSH\"\n",
    ")\n",
    "plt.show()"
   ]
  },
  {
   "cell_type": "markdown",
   "id": "0460905a",
   "metadata": {},
   "source": [
    "#### Wavelength"
   ]
  },
  {
   "cell_type": "code",
   "execution_count": null,
   "id": "1b85b64a",
   "metadata": {},
   "outputs": [],
   "source": [
    "psd_st_plot = PlotPSDSpaceTime()\n",
    "psd_st_plot.init_fig()\n",
    "psd_st_plot.plot_wavelength(\n",
    "    da_psd_st.ssh,\n",
    "    space_scale=1e3, \n",
    "    space_units=\"km\", \n",
    "    time_units=\"days\",\n",
    "    psd_units=\"SSH\"\n",
    ")\n",
    "plt.show()"
   ]
  },
  {
   "cell_type": "code",
   "execution_count": null,
   "id": "d83dfced",
   "metadata": {},
   "outputs": [],
   "source": []
  }
 ],
 "metadata": {
  "jupytext": {
   "text_representation": {
    "extension": ".md",
    "format_name": "myst",
    "format_version": 0.13,
    "jupytext_version": "1.14.5"
   }
  },
  "kernelspec": {
   "display_name": "Python [conda env:miniconda3-jejeqx]",
   "language": "python",
   "name": "conda-env-miniconda3-jejeqx-py"
  },
  "source_map": [
   12,
   16,
   22,
   47,
   51,
   60,
   74,
   79,
   87,
   102,
   111,
   115,
   119,
   125,
   129,
   132,
   136,
   142,
   151,
   155,
   159,
   163,
   168,
   173,
   175,
   179,
   243,
   247,
   257,
   261,
   271,
   275,
   285,
   289,
   293,
   301,
   305,
   414,
   418,
   429,
   433,
   446
  ]
 },
 "nbformat": 4,
 "nbformat_minor": 5
}