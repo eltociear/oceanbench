{
 "cells": [
  {
   "cell_type": "markdown",
   "id": "0770037c-d3eb-46ad-a1a6-3404680a9bbc",
   "metadata": {},
   "source": [
    "# Data Challenge - 2020a - OSSE - LeaderBoard"
   ]
  },
  {
   "cell_type": "code",
   "execution_count": 20,
   "id": "313ba6c9-5751-41d5-9171-ed2b53c0d172",
   "metadata": {},
   "outputs": [
    {
     "name": "stdout",
     "output_type": "stream",
     "text": [
      "The autoreload extension is already loaded. To reload it, use:\n",
      "  %reload_ext autoreload\n"
     ]
    }
   ],
   "source": [
    "import autoroot\n",
    "import typing as tp\n",
    "from dataclasses import dataclass\n",
    "import numpy as np\n",
    "import pandas as pd\n",
    "import xarray as xr\n",
    "import einops\n",
    "import metpy\n",
    "from metpy.units import units\n",
    "import xarray_dataclasses as xrdataclass\n",
    "from oceanbench._src.datasets.base import XRDABatcher\n",
    "from oceanbench._src.geoprocessing import geostrophic as geocalc\n",
    "import matplotlib.pyplot as plt\n",
    "import seaborn as sns\n",
    "\n",
    "sns.reset_defaults()\n",
    "sns.set_context(context=\"talk\", font_scale=0.7)\n",
    "\n",
    "%load_ext autoreload\n",
    "%autoreload 2\n"
   ]
  },
  {
   "cell_type": "code",
   "execution_count": 21,
   "id": "0443edee-cfb2-4de6-9736-8509dfcc962c",
   "metadata": {},
   "outputs": [],
   "source": [
    "results = pd.read_csv(\"/gpfswork/rech/yrf/commun/data_challenges/dc20a_osse/staging/results/leaderboard.csv\", index_col=0)"
   ]
  },
  {
   "cell_type": "code",
   "execution_count": 22,
   "id": "01f9ac1c-8ab7-4e77-b257-229de7bbce9b",
   "metadata": {},
   "outputs": [],
   "source": [
    "cond1 = results[\"Variable\"] == \"SEA_SURFACE_HEIGHT\""
   ]
  },
  {
   "cell_type": "markdown",
   "id": "0eff76d6-a65b-4fec-930b-30aa8cbfea54",
   "metadata": {},
   "source": [
    "## NADIR4"
   ]
  },
  {
   "cell_type": "code",
   "execution_count": 23,
   "id": "1ebd148a-c742-40be-a778-e6a249000907",
   "metadata": {},
   "outputs": [
    {
     "data": {
      "text/html": [
       "<div>\n",
       "<style scoped>\n",
       "    .dataframe tbody tr th:only-of-type {\n",
       "        vertical-align: middle;\n",
       "    }\n",
       "\n",
       "    .dataframe tbody tr th {\n",
       "        vertical-align: top;\n",
       "    }\n",
       "\n",
       "    .dataframe thead th {\n",
       "        text-align: right;\n",
       "    }\n",
       "</style>\n",
       "<table border=\"1\" class=\"dataframe\">\n",
       "  <thead>\n",
       "    <tr style=\"text-align: right;\">\n",
       "      <th></th>\n",
       "      <th>Experiment</th>\n",
       "      <th>Method</th>\n",
       "      <th>Variable</th>\n",
       "      <th>µ(RMSE)</th>\n",
       "      <th>σ(RMSE)</th>\n",
       "      <th>iso λx [km]</th>\n",
       "      <th>iso λx [degree]</th>\n",
       "      <th>λx [km]</th>\n",
       "      <th>λx [degree]</th>\n",
       "      <th>λt [days]</th>\n",
       "    </tr>\n",
       "  </thead>\n",
       "  <tbody>\n",
       "    <tr>\n",
       "      <th>0</th>\n",
       "      <td>NADIR4</td>\n",
       "      <td>DUACS</td>\n",
       "      <td>SEA_SURFACE_HEIGHT</td>\n",
       "      <td>0.913245</td>\n",
       "      <td>0.008211</td>\n",
       "      <td>124.93797</td>\n",
       "      <td>1.125567</td>\n",
       "      <td>176.070568</td>\n",
       "      <td>1.586221</td>\n",
       "      <td>11.551917</td>\n",
       "    </tr>\n",
       "  </tbody>\n",
       "</table>\n",
       "</div>"
      ],
      "text/plain": [
       "  Experiment Method            Variable   µ(RMSE)   σ(RMSE)  iso λx [km]  \\\n",
       "0     NADIR4  DUACS  SEA_SURFACE_HEIGHT  0.913245  0.008211    124.93797   \n",
       "\n",
       "   iso λx [degree]     λx [km]  λx [degree]  λt [days]  \n",
       "0         1.125567  176.070568     1.586221  11.551917  "
      ]
     },
     "execution_count": 23,
     "metadata": {},
     "output_type": "execute_result"
    }
   ],
   "source": [
    "cond2 = results[\"Experiment\"] == \"NADIR4\"\n",
    "results.loc[cond1 & cond2].sort_values(\"λx [km]\")"
   ]
  },
  {
   "cell_type": "code",
   "execution_count": 24,
   "id": "9beddcf3-8fff-4884-919c-d24a8a557124",
   "metadata": {},
   "outputs": [
    {
     "data": {
      "text/html": [
       "<div>\n",
       "<style scoped>\n",
       "    .dataframe tbody tr th:only-of-type {\n",
       "        vertical-align: middle;\n",
       "    }\n",
       "\n",
       "    .dataframe tbody tr th {\n",
       "        vertical-align: top;\n",
       "    }\n",
       "\n",
       "    .dataframe thead th {\n",
       "        text-align: right;\n",
       "    }\n",
       "</style>\n",
       "<table border=\"1\" class=\"dataframe\">\n",
       "  <thead>\n",
       "    <tr style=\"text-align: right;\">\n",
       "      <th></th>\n",
       "      <th>Experiment</th>\n",
       "      <th>Method</th>\n",
       "      <th>Variable</th>\n",
       "      <th>µ(RMSE)</th>\n",
       "      <th>σ(RMSE)</th>\n",
       "      <th>iso λx [km]</th>\n",
       "      <th>iso λx [degree]</th>\n",
       "      <th>λx [km]</th>\n",
       "      <th>λx [degree]</th>\n",
       "      <th>λt [days]</th>\n",
       "    </tr>\n",
       "  </thead>\n",
       "  <tbody>\n",
       "    <tr>\n",
       "      <th>0</th>\n",
       "      <td>NADIR4</td>\n",
       "      <td>DUACS</td>\n",
       "      <td>SEA_SURFACE_HEIGHT</td>\n",
       "      <td>0.913245</td>\n",
       "      <td>0.008211</td>\n",
       "      <td>124.93797</td>\n",
       "      <td>1.125567</td>\n",
       "      <td>176.070568</td>\n",
       "      <td>1.586221</td>\n",
       "      <td>11.551917</td>\n",
       "    </tr>\n",
       "  </tbody>\n",
       "</table>\n",
       "</div>"
      ],
      "text/plain": [
       "  Experiment Method            Variable   µ(RMSE)   σ(RMSE)  iso λx [km]  \\\n",
       "0     NADIR4  DUACS  SEA_SURFACE_HEIGHT  0.913245  0.008211    124.93797   \n",
       "\n",
       "   iso λx [degree]     λx [km]  λx [degree]  λt [days]  \n",
       "0         1.125567  176.070568     1.586221  11.551917  "
      ]
     },
     "execution_count": 24,
     "metadata": {},
     "output_type": "execute_result"
    }
   ],
   "source": [
    "results.loc[cond1 & cond2].sort_values(\"λt [days]\")"
   ]
  },
  {
   "cell_type": "code",
   "execution_count": 25,
   "id": "f2c029d3-2bed-49d7-a1f2-df15c3ef1393",
   "metadata": {},
   "outputs": [
    {
     "data": {
      "text/html": [
       "<div>\n",
       "<style scoped>\n",
       "    .dataframe tbody tr th:only-of-type {\n",
       "        vertical-align: middle;\n",
       "    }\n",
       "\n",
       "    .dataframe tbody tr th {\n",
       "        vertical-align: top;\n",
       "    }\n",
       "\n",
       "    .dataframe thead th {\n",
       "        text-align: right;\n",
       "    }\n",
       "</style>\n",
       "<table border=\"1\" class=\"dataframe\">\n",
       "  <thead>\n",
       "    <tr style=\"text-align: right;\">\n",
       "      <th></th>\n",
       "      <th>Experiment</th>\n",
       "      <th>Method</th>\n",
       "      <th>Variable</th>\n",
       "      <th>µ(RMSE)</th>\n",
       "      <th>σ(RMSE)</th>\n",
       "      <th>iso λx [km]</th>\n",
       "      <th>iso λx [degree]</th>\n",
       "      <th>λx [km]</th>\n",
       "      <th>λx [degree]</th>\n",
       "      <th>λt [days]</th>\n",
       "    </tr>\n",
       "  </thead>\n",
       "  <tbody>\n",
       "    <tr>\n",
       "      <th>0</th>\n",
       "      <td>NADIR4</td>\n",
       "      <td>DUACS</td>\n",
       "      <td>SEA_SURFACE_HEIGHT</td>\n",
       "      <td>0.913245</td>\n",
       "      <td>0.008211</td>\n",
       "      <td>124.93797</td>\n",
       "      <td>1.125567</td>\n",
       "      <td>176.070568</td>\n",
       "      <td>1.586221</td>\n",
       "      <td>11.551917</td>\n",
       "    </tr>\n",
       "  </tbody>\n",
       "</table>\n",
       "</div>"
      ],
      "text/plain": [
       "  Experiment Method            Variable   µ(RMSE)   σ(RMSE)  iso λx [km]  \\\n",
       "0     NADIR4  DUACS  SEA_SURFACE_HEIGHT  0.913245  0.008211    124.93797   \n",
       "\n",
       "   iso λx [degree]     λx [km]  λx [degree]  λt [days]  \n",
       "0         1.125567  176.070568     1.586221  11.551917  "
      ]
     },
     "execution_count": 25,
     "metadata": {},
     "output_type": "execute_result"
    }
   ],
   "source": [
    "results.loc[cond1 & cond2].sort_values(\"µ(RMSE)\", ascending=False)"
   ]
  },
  {
   "cell_type": "markdown",
   "id": "681cc116-f328-4f90-afe3-ee5552f914d4",
   "metadata": {},
   "source": [
    "## SWOT 1 + NADIR 5"
   ]
  },
  {
   "cell_type": "code",
   "execution_count": 26,
   "id": "91d06e25-8f77-4930-9bf7-b57699763c52",
   "metadata": {},
   "outputs": [
    {
     "data": {
      "text/html": [
       "<div>\n",
       "<style scoped>\n",
       "    .dataframe tbody tr th:only-of-type {\n",
       "        vertical-align: middle;\n",
       "    }\n",
       "\n",
       "    .dataframe tbody tr th {\n",
       "        vertical-align: top;\n",
       "    }\n",
       "\n",
       "    .dataframe thead th {\n",
       "        text-align: right;\n",
       "    }\n",
       "</style>\n",
       "<table border=\"1\" class=\"dataframe\">\n",
       "  <thead>\n",
       "    <tr style=\"text-align: right;\">\n",
       "      <th></th>\n",
       "      <th>Experiment</th>\n",
       "      <th>Method</th>\n",
       "      <th>Variable</th>\n",
       "      <th>µ(RMSE)</th>\n",
       "      <th>σ(RMSE)</th>\n",
       "      <th>iso λx [km]</th>\n",
       "      <th>iso λx [degree]</th>\n",
       "      <th>λx [km]</th>\n",
       "      <th>λx [degree]</th>\n",
       "      <th>λt [days]</th>\n",
       "    </tr>\n",
       "  </thead>\n",
       "  <tbody>\n",
       "    <tr>\n",
       "      <th>0</th>\n",
       "      <td>SWOT1NADIR5</td>\n",
       "      <td>DUACS</td>\n",
       "      <td>SEA_SURFACE_HEIGHT</td>\n",
       "      <td>0.920956</td>\n",
       "      <td>0.016874</td>\n",
       "      <td>107.57234</td>\n",
       "      <td>0.96912</td>\n",
       "      <td>138.892909</td>\n",
       "      <td>1.251287</td>\n",
       "      <td>11.922338</td>\n",
       "    </tr>\n",
       "  </tbody>\n",
       "</table>\n",
       "</div>"
      ],
      "text/plain": [
       "    Experiment Method            Variable   µ(RMSE)   σ(RMSE)  iso λx [km]  \\\n",
       "0  SWOT1NADIR5  DUACS  SEA_SURFACE_HEIGHT  0.920956  0.016874    107.57234   \n",
       "\n",
       "   iso λx [degree]     λx [km]  λx [degree]  λt [days]  \n",
       "0          0.96912  138.892909     1.251287  11.922338  "
      ]
     },
     "execution_count": 26,
     "metadata": {},
     "output_type": "execute_result"
    }
   ],
   "source": [
    "cond3 = results[\"Experiment\"] == \"SWOT1NADIR5\"\n",
    "results.loc[cond1 & cond3].sort_values(\"λx [km]\")"
   ]
  },
  {
   "cell_type": "code",
   "execution_count": 27,
   "id": "61652e84-b7fe-4095-9470-19003d872eb6",
   "metadata": {},
   "outputs": [
    {
     "data": {
      "text/html": [
       "<div>\n",
       "<style scoped>\n",
       "    .dataframe tbody tr th:only-of-type {\n",
       "        vertical-align: middle;\n",
       "    }\n",
       "\n",
       "    .dataframe tbody tr th {\n",
       "        vertical-align: top;\n",
       "    }\n",
       "\n",
       "    .dataframe thead th {\n",
       "        text-align: right;\n",
       "    }\n",
       "</style>\n",
       "<table border=\"1\" class=\"dataframe\">\n",
       "  <thead>\n",
       "    <tr style=\"text-align: right;\">\n",
       "      <th></th>\n",
       "      <th>Experiment</th>\n",
       "      <th>Method</th>\n",
       "      <th>Variable</th>\n",
       "      <th>µ(RMSE)</th>\n",
       "      <th>σ(RMSE)</th>\n",
       "      <th>iso λx [km]</th>\n",
       "      <th>iso λx [degree]</th>\n",
       "      <th>λx [km]</th>\n",
       "      <th>λx [degree]</th>\n",
       "      <th>λt [days]</th>\n",
       "    </tr>\n",
       "  </thead>\n",
       "  <tbody>\n",
       "    <tr>\n",
       "      <th>0</th>\n",
       "      <td>SWOT1NADIR5</td>\n",
       "      <td>DUACS</td>\n",
       "      <td>SEA_SURFACE_HEIGHT</td>\n",
       "      <td>0.920956</td>\n",
       "      <td>0.016874</td>\n",
       "      <td>107.57234</td>\n",
       "      <td>0.96912</td>\n",
       "      <td>138.892909</td>\n",
       "      <td>1.251287</td>\n",
       "      <td>11.922338</td>\n",
       "    </tr>\n",
       "  </tbody>\n",
       "</table>\n",
       "</div>"
      ],
      "text/plain": [
       "    Experiment Method            Variable   µ(RMSE)   σ(RMSE)  iso λx [km]  \\\n",
       "0  SWOT1NADIR5  DUACS  SEA_SURFACE_HEIGHT  0.920956  0.016874    107.57234   \n",
       "\n",
       "   iso λx [degree]     λx [km]  λx [degree]  λt [days]  \n",
       "0          0.96912  138.892909     1.251287  11.922338  "
      ]
     },
     "execution_count": 27,
     "metadata": {},
     "output_type": "execute_result"
    }
   ],
   "source": [
    "results.loc[cond1 & cond3].sort_values(\"λt [days]\")"
   ]
  },
  {
   "cell_type": "code",
   "execution_count": 28,
   "id": "1b33da0b-78c9-4d17-981e-56f568aba141",
   "metadata": {},
   "outputs": [
    {
     "data": {
      "text/html": [
       "<div>\n",
       "<style scoped>\n",
       "    .dataframe tbody tr th:only-of-type {\n",
       "        vertical-align: middle;\n",
       "    }\n",
       "\n",
       "    .dataframe tbody tr th {\n",
       "        vertical-align: top;\n",
       "    }\n",
       "\n",
       "    .dataframe thead th {\n",
       "        text-align: right;\n",
       "    }\n",
       "</style>\n",
       "<table border=\"1\" class=\"dataframe\">\n",
       "  <thead>\n",
       "    <tr style=\"text-align: right;\">\n",
       "      <th></th>\n",
       "      <th>Experiment</th>\n",
       "      <th>Method</th>\n",
       "      <th>Variable</th>\n",
       "      <th>µ(RMSE)</th>\n",
       "      <th>σ(RMSE)</th>\n",
       "      <th>iso λx [km]</th>\n",
       "      <th>iso λx [degree]</th>\n",
       "      <th>λx [km]</th>\n",
       "      <th>λx [degree]</th>\n",
       "      <th>λt [days]</th>\n",
       "    </tr>\n",
       "  </thead>\n",
       "  <tbody>\n",
       "    <tr>\n",
       "      <th>0</th>\n",
       "      <td>SWOT1NADIR5</td>\n",
       "      <td>DUACS</td>\n",
       "      <td>SEA_SURFACE_HEIGHT</td>\n",
       "      <td>0.920956</td>\n",
       "      <td>0.016874</td>\n",
       "      <td>107.57234</td>\n",
       "      <td>0.96912</td>\n",
       "      <td>138.892909</td>\n",
       "      <td>1.251287</td>\n",
       "      <td>11.922338</td>\n",
       "    </tr>\n",
       "  </tbody>\n",
       "</table>\n",
       "</div>"
      ],
      "text/plain": [
       "    Experiment Method            Variable   µ(RMSE)   σ(RMSE)  iso λx [km]  \\\n",
       "0  SWOT1NADIR5  DUACS  SEA_SURFACE_HEIGHT  0.920956  0.016874    107.57234   \n",
       "\n",
       "   iso λx [degree]     λx [km]  λx [degree]  λt [days]  \n",
       "0          0.96912  138.892909     1.251287  11.922338  "
      ]
     },
     "execution_count": 28,
     "metadata": {},
     "output_type": "execute_result"
    }
   ],
   "source": [
    "results.loc[cond1 & cond3].sort_values(\"µ(RMSE)\", ascending=False)"
   ]
  },
  {
   "cell_type": "code",
   "execution_count": null,
   "id": "fc363bd8-ba7b-4cbb-ad46-9670e85f0ca4",
   "metadata": {},
   "outputs": [],
   "source": []
  }
 ],
 "metadata": {
  "kernelspec": {
   "display_name": "Python [conda env:miniconda3-jejeqx]",
   "language": "python",
   "name": "conda-env-miniconda3-jejeqx-py"
  },
  "language_info": {
   "codemirror_mode": {
    "name": "ipython",
    "version": 3
   },
   "file_extension": ".py",
   "mimetype": "text/x-python",
   "name": "python",
   "nbconvert_exporter": "python",
   "pygments_lexer": "ipython3",
   "version": "3.10.10"
  }
 },
 "nbformat": 4,
 "nbformat_minor": 5
}
