{
 "cells": [
  {
   "cell_type": "markdown",
   "id": "0770037c-d3eb-46ad-a1a6-3404680a9bbc",
   "metadata": {},
   "source": [
    "# LeaderBoard"
   ]
  },
  {
   "cell_type": "code",
   "execution_count": 9,
   "id": "313ba6c9-5751-41d5-9171-ed2b53c0d172",
   "metadata": {},
   "outputs": [
    {
     "name": "stdout",
     "output_type": "stream",
     "text": [
      "The autoreload extension is already loaded. To reload it, use:\n",
      "  %reload_ext autoreload\n"
     ]
    }
   ],
   "source": [
    "import autoroot\n",
    "import typing as tp\n",
    "from dataclasses import dataclass\n",
    "import numpy as np\n",
    "import pandas as pd\n",
    "import xarray as xr\n",
    "import einops\n",
    "import metpy\n",
    "from metpy.units import units\n",
    "import xarray_dataclasses as xrdataclass\n",
    "from oceanbench._src.datasets.base import XRDABatcher\n",
    "from oceanbench._src.geoprocessing import geostrophic as geocalc\n",
    "import matplotlib.pyplot as plt\n",
    "import seaborn as sns\n",
    "\n",
    "sns.reset_defaults()\n",
    "sns.set_context(context=\"talk\", font_scale=0.7)\n",
    "\n",
    "%load_ext autoreload\n",
    "%autoreload 2\n"
   ]
  },
  {
   "cell_type": "code",
   "execution_count": 18,
   "id": "ca0900c1-29ff-4fd6-b4dc-4abdd11f95a8",
   "metadata": {},
   "outputs": [
    {
     "name": "stdout",
     "output_type": "stream",
     "text": [
      "leaderboard.csv\t\t\t  OSE_ssh_mapping_DUACS.nc\n",
      "OSE_ssh_mapping_4dvarNet_2022.nc  OSE_ssh_mapping_DYMOST.nc\n",
      "OSE_ssh_mapping_4dvarNet.nc\t  OSE_ssh_mapping_MIOST.nc\n",
      "OSE_ssh_mapping_BASELINE.nc\t  results.csv\n",
      "OSE_ssh_mapping_BFN.nc\n"
     ]
    }
   ],
   "source": [
    "!ls "
   ]
  },
  {
   "cell_type": "code",
   "execution_count": 20,
   "id": "0443edee-cfb2-4de6-9736-8509dfcc962c",
   "metadata": {},
   "outputs": [
    {
     "data": {
      "text/html": [
       "<div>\n",
       "<style scoped>\n",
       "    .dataframe tbody tr th:only-of-type {\n",
       "        vertical-align: middle;\n",
       "    }\n",
       "\n",
       "    .dataframe tbody tr th {\n",
       "        vertical-align: top;\n",
       "    }\n",
       "\n",
       "    .dataframe thead th {\n",
       "        text-align: right;\n",
       "    }\n",
       "</style>\n",
       "<table border=\"1\" class=\"dataframe\">\n",
       "  <thead>\n",
       "    <tr style=\"text-align: right;\">\n",
       "      <th></th>\n",
       "      <th>Method</th>\n",
       "      <th>µ(RMSE)</th>\n",
       "      <th>σ(RMSE)</th>\n",
       "      <th>λx [km]</th>\n",
       "      <th>λx [degree]</th>\n",
       "    </tr>\n",
       "  </thead>\n",
       "  <tbody>\n",
       "    <tr>\n",
       "      <th>0</th>\n",
       "      <td>DUACS</td>\n",
       "      <td>0.881618</td>\n",
       "      <td>0.0</td>\n",
       "      <td>187.406401</td>\n",
       "      <td>1.688346</td>\n",
       "    </tr>\n",
       "    <tr>\n",
       "      <th>0</th>\n",
       "      <td>BFNQG</td>\n",
       "      <td>0.883529</td>\n",
       "      <td>0.0</td>\n",
       "      <td>150.409086</td>\n",
       "      <td>1.355037</td>\n",
       "    </tr>\n",
       "    <tr>\n",
       "      <th>0</th>\n",
       "      <td>MIOST</td>\n",
       "      <td>0.894965</td>\n",
       "      <td>0.0</td>\n",
       "      <td>163.226063</td>\n",
       "      <td>1.470505</td>\n",
       "    </tr>\n",
       "    <tr>\n",
       "      <th>0</th>\n",
       "      <td>DYMOST</td>\n",
       "      <td>0.897534</td>\n",
       "      <td>0.0</td>\n",
       "      <td>138.023416</td>\n",
       "      <td>1.243454</td>\n",
       "    </tr>\n",
       "    <tr>\n",
       "      <th>0</th>\n",
       "      <td>4DVARNET</td>\n",
       "      <td>0.899022</td>\n",
       "      <td>0.0</td>\n",
       "      <td>141.932838</td>\n",
       "      <td>1.278674</td>\n",
       "    </tr>\n",
       "  </tbody>\n",
       "</table>\n",
       "</div>"
      ],
      "text/plain": [
       "     Method   µ(RMSE)  σ(RMSE)     λx [km]  λx [degree]\n",
       "0     DUACS  0.881618      0.0  187.406401     1.688346\n",
       "0     BFNQG  0.883529      0.0  150.409086     1.355037\n",
       "0     MIOST  0.894965      0.0  163.226063     1.470505\n",
       "0    DYMOST  0.897534      0.0  138.023416     1.243454\n",
       "0  4DVARNET  0.899022      0.0  141.932838     1.278674"
      ]
     },
     "execution_count": 20,
     "metadata": {},
     "output_type": "execute_result"
    }
   ],
   "source": [
    "results = pd.read_csv(\"/gpfswork/rech/yrf/commun/data_challenges/dc21a_ose/test/results/leaderboard.csv\", index_col=0)\n",
    "results.head()"
   ]
  },
  {
   "cell_type": "code",
   "execution_count": 25,
   "id": "f2c029d3-2bed-49d7-a1f2-df15c3ef1393",
   "metadata": {},
   "outputs": [
    {
     "data": {
      "text/html": [
       "<div>\n",
       "<style scoped>\n",
       "    .dataframe tbody tr th:only-of-type {\n",
       "        vertical-align: middle;\n",
       "    }\n",
       "\n",
       "    .dataframe tbody tr th {\n",
       "        vertical-align: top;\n",
       "    }\n",
       "\n",
       "    .dataframe thead th {\n",
       "        text-align: right;\n",
       "    }\n",
       "</style>\n",
       "<table border=\"1\" class=\"dataframe\">\n",
       "  <thead>\n",
       "    <tr style=\"text-align: right;\">\n",
       "      <th></th>\n",
       "      <th>Method</th>\n",
       "      <th>µ(RMSE)</th>\n",
       "      <th>σ(RMSE)</th>\n",
       "      <th>λx [km]</th>\n",
       "      <th>λx [degree]</th>\n",
       "    </tr>\n",
       "  </thead>\n",
       "  <tbody>\n",
       "    <tr>\n",
       "      <th>0</th>\n",
       "      <td>DYMOST</td>\n",
       "      <td>0.897534</td>\n",
       "      <td>0.0</td>\n",
       "      <td>138.023416</td>\n",
       "      <td>1.243454</td>\n",
       "    </tr>\n",
       "    <tr>\n",
       "      <th>0</th>\n",
       "      <td>4DVARNET</td>\n",
       "      <td>0.899022</td>\n",
       "      <td>0.0</td>\n",
       "      <td>141.932838</td>\n",
       "      <td>1.278674</td>\n",
       "    </tr>\n",
       "    <tr>\n",
       "      <th>0</th>\n",
       "      <td>BFNQG</td>\n",
       "      <td>0.883529</td>\n",
       "      <td>0.0</td>\n",
       "      <td>150.409086</td>\n",
       "      <td>1.355037</td>\n",
       "    </tr>\n",
       "    <tr>\n",
       "      <th>0</th>\n",
       "      <td>MIOST</td>\n",
       "      <td>0.894965</td>\n",
       "      <td>0.0</td>\n",
       "      <td>163.226063</td>\n",
       "      <td>1.470505</td>\n",
       "    </tr>\n",
       "    <tr>\n",
       "      <th>0</th>\n",
       "      <td>DUACS</td>\n",
       "      <td>0.881618</td>\n",
       "      <td>0.0</td>\n",
       "      <td>187.406401</td>\n",
       "      <td>1.688346</td>\n",
       "    </tr>\n",
       "  </tbody>\n",
       "</table>\n",
       "</div>"
      ],
      "text/plain": [
       "     Method   µ(RMSE)  σ(RMSE)     λx [km]  λx [degree]\n",
       "0    DYMOST  0.897534      0.0  138.023416     1.243454\n",
       "0  4DVARNET  0.899022      0.0  141.932838     1.278674\n",
       "0     BFNQG  0.883529      0.0  150.409086     1.355037\n",
       "0     MIOST  0.894965      0.0  163.226063     1.470505\n",
       "0     DUACS  0.881618      0.0  187.406401     1.688346"
      ]
     },
     "execution_count": 25,
     "metadata": {},
     "output_type": "execute_result"
    }
   ],
   "source": [
    "results.sort_values(\"λx [km]\", ascending=True)"
   ]
  },
  {
   "cell_type": "code",
   "execution_count": 24,
   "id": "f1526e2d-2aea-47e7-b691-bbdb6002a647",
   "metadata": {},
   "outputs": [
    {
     "data": {
      "text/html": [
       "<div>\n",
       "<style scoped>\n",
       "    .dataframe tbody tr th:only-of-type {\n",
       "        vertical-align: middle;\n",
       "    }\n",
       "\n",
       "    .dataframe tbody tr th {\n",
       "        vertical-align: top;\n",
       "    }\n",
       "\n",
       "    .dataframe thead th {\n",
       "        text-align: right;\n",
       "    }\n",
       "</style>\n",
       "<table border=\"1\" class=\"dataframe\">\n",
       "  <thead>\n",
       "    <tr style=\"text-align: right;\">\n",
       "      <th></th>\n",
       "      <th>Method</th>\n",
       "      <th>µ(RMSE)</th>\n",
       "      <th>σ(RMSE)</th>\n",
       "      <th>λx [km]</th>\n",
       "      <th>λx [degree]</th>\n",
       "    </tr>\n",
       "  </thead>\n",
       "  <tbody>\n",
       "    <tr>\n",
       "      <th>0</th>\n",
       "      <td>4DVARNET</td>\n",
       "      <td>0.899022</td>\n",
       "      <td>0.0</td>\n",
       "      <td>141.932838</td>\n",
       "      <td>1.278674</td>\n",
       "    </tr>\n",
       "    <tr>\n",
       "      <th>0</th>\n",
       "      <td>DYMOST</td>\n",
       "      <td>0.897534</td>\n",
       "      <td>0.0</td>\n",
       "      <td>138.023416</td>\n",
       "      <td>1.243454</td>\n",
       "    </tr>\n",
       "    <tr>\n",
       "      <th>0</th>\n",
       "      <td>MIOST</td>\n",
       "      <td>0.894965</td>\n",
       "      <td>0.0</td>\n",
       "      <td>163.226063</td>\n",
       "      <td>1.470505</td>\n",
       "    </tr>\n",
       "    <tr>\n",
       "      <th>0</th>\n",
       "      <td>BFNQG</td>\n",
       "      <td>0.883529</td>\n",
       "      <td>0.0</td>\n",
       "      <td>150.409086</td>\n",
       "      <td>1.355037</td>\n",
       "    </tr>\n",
       "    <tr>\n",
       "      <th>0</th>\n",
       "      <td>DUACS</td>\n",
       "      <td>0.881618</td>\n",
       "      <td>0.0</td>\n",
       "      <td>187.406401</td>\n",
       "      <td>1.688346</td>\n",
       "    </tr>\n",
       "  </tbody>\n",
       "</table>\n",
       "</div>"
      ],
      "text/plain": [
       "     Method   µ(RMSE)  σ(RMSE)     λx [km]  λx [degree]\n",
       "0  4DVARNET  0.899022      0.0  141.932838     1.278674\n",
       "0    DYMOST  0.897534      0.0  138.023416     1.243454\n",
       "0     MIOST  0.894965      0.0  163.226063     1.470505\n",
       "0     BFNQG  0.883529      0.0  150.409086     1.355037\n",
       "0     DUACS  0.881618      0.0  187.406401     1.688346"
      ]
     },
     "execution_count": 24,
     "metadata": {},
     "output_type": "execute_result"
    }
   ],
   "source": [
    "results.sort_values(\"µ(RMSE)\", ascending=False)"
   ]
  },
  {
   "cell_type": "code",
   "execution_count": null,
   "id": "fc363bd8-ba7b-4cbb-ad46-9670e85f0ca4",
   "metadata": {},
   "outputs": [],
   "source": []
  }
 ],
 "metadata": {
  "kernelspec": {
   "display_name": "Python [conda env:jejeqx]",
   "language": "python",
   "name": "conda-env-jejeqx-py"
  },
  "language_info": {
   "codemirror_mode": {
    "name": "ipython",
    "version": 3
   },
   "file_extension": ".py",
   "mimetype": "text/x-python",
   "name": "python",
   "nbconvert_exporter": "python",
   "pygments_lexer": "ipython3",
   "version": "3.10.11"
  }
 },
 "nbformat": 4,
 "nbformat_minor": 5
}
